{
 "cells": [
  {
   "cell_type": "markdown",
   "id": "9bc59d40-e8a9-4554-adc3-b8f4763e93f3",
   "metadata": {},
   "source": [
    "Chapter 8 Exercises:"
   ]
  },
  {
   "cell_type": "markdown",
   "id": "c145c023-2d86-4b69-919b-43f53510bb77",
   "metadata": {},
   "source": [
    "Algorithm Workbench #2"
   ]
  },
  {
   "cell_type": "markdown",
   "id": "67aa69ce-0ee8-496e-9c4e-f0269324301b",
   "metadata": {},
   "source": [
    "Write a loop that counts the number of space characters that appear in the string referenced by mystring."
   ]
  },
  {
   "cell_type": "code",
   "execution_count": 8,
   "id": "aaeac515-2c04-4e7d-bec6-719fdb1e1add",
   "metadata": {},
   "outputs": [
    {
     "name": "stdin",
     "output_type": "stream",
     "text": [
      "Enter in a sentence hello my name is sofia\n"
     ]
    },
    {
     "name": "stdout",
     "output_type": "stream",
     "text": [
      "Number of space characters: 4\n"
     ]
    }
   ],
   "source": [
    "# First we will create a variable with a start of 0:\n",
    "character_count = 0 \n",
    "# Next we will get and define the string from the user:\n",
    "my_string= input(\"Enter in a sentence\")\n",
    "# Next we will create the loop that counts the spaces:\n",
    "for ch in my_string:\n",
    "    if ch == ' ':\n",
    "        character_count += 1\n",
    "# Next display the number of spaces appeared in the string\n",
    "print(\"Number of space characters:\", character_count)\n"
   ]
  },
  {
   "cell_type": "markdown",
   "id": "dd02abf9-0943-4368-ae30-eef87e1dc4bf",
   "metadata": {},
   "source": [
    "Algorithm Workbench #4"
   ]
  },
  {
   "cell_type": "markdown",
   "id": "242223cf-9d7d-4e8f-a725-77372fb8548b",
   "metadata": {},
   "source": [
    "Write a loop that counts the number of lowercase characters that appear in the string referenced by mystring."
   ]
  },
  {
   "cell_type": "code",
   "execution_count": 10,
   "id": "ad184d77-3774-49f4-beb3-8f7d7dc8f47b",
   "metadata": {},
   "outputs": [
    {
     "name": "stdin",
     "output_type": "stream",
     "text": [
      "Enter in a sentence Today was a HOT day\n"
     ]
    },
    {
     "name": "stdout",
     "output_type": "stream",
     "text": [
      "Number of lowercase characters: 11\n"
     ]
    }
   ],
   "source": [
    "# First we will start off like we did in problem 2:\n",
    "lowercase_count = 0\n",
    "# Next we will get and define the string from the user:\n",
    "my_string = input(\"Enter in a sentence\")\n",
    "# Next we will create the for loop that counts the lowercase characters in the sentence the user inputted: \n",
    "for ch in my_string:\n",
    "    if ch.islower():\n",
    "        lowercase_count += 1\n",
    "# Lastly display\n",
    "print(\"Number of lowercase characters:\", lowercase_count)\n"
   ]
  },
  {
   "cell_type": "markdown",
   "id": "a3966842-4486-4013-966a-85833e08dc07",
   "metadata": {},
   "source": [
    "Programming Exercises #2"
   ]
  },
  {
   "cell_type": "markdown",
   "id": "bf3348ac-1c58-4609-97c4-f0dde45484d8",
   "metadata": {},
   "source": [
    "Write a program that asks the user to enter a series of single-digit numbers with nothing separating them. The program should display the sum of all the single digit numbers in the string. For example, if the user enters 2514, the method should return 12, which is the sum of 2, 5, 1, and 4."
   ]
  },
  {
   "cell_type": "code",
   "execution_count": 40,
   "id": "7b1ba6e5-7859-4ee9-b2e6-655ccf3bbb06",
   "metadata": {},
   "outputs": [
    {
     "name": "stdin",
     "output_type": "stream",
     "text": [
      "Enter a few single digit numbers with no separation:  3587\n"
     ]
    },
    {
     "name": "stdout",
     "output_type": "stream",
     "text": [
      "The sum of the single digit numbers is: 23.\n"
     ]
    }
   ],
   "source": [
    "# First we will define the string and start the variable at 0\n",
    "def value(string):    \n",
    "    count = 0\n",
    "# Next we will create the loop and the range:    \n",
    "    for num in str(string)[0:]:\n",
    "        if num.isdigit() and int(num) in range(100):\n",
    "            count += int(num)\n",
    "\n",
    "    return count\n",
    "\n",
    "# Now we can define the main function and ask to display the outcome:\n",
    "def main():\n",
    "    user_input_string = input('Enter a few single digit numbers with no separation: ')\n",
    "\n",
    "    print('The sum of the single digit numbers is: ' + str(value(user_input_string)) + '.')\n",
    "\n",
    "# Lastly call back to the main function:\n",
    "main()"
   ]
  },
  {
   "cell_type": "markdown",
   "id": "94f56260-65af-4867-8909-6cd2c9fa0843",
   "metadata": {},
   "source": [
    "Programming Exercises #1\n"
   ]
  },
  {
   "cell_type": "markdown",
   "id": "61f48654-7be4-4904-bca5-dd85ca15bac0",
   "metadata": {},
   "source": [
    "Write a program that gets a string containing a person’s first, middle, and last names, and displays their first, middle, and last initials. For example, if the user enters John William Smith, the program should display J. W. S."
   ]
  },
  {
   "cell_type": "code",
   "execution_count": 47,
   "id": "a1d8b037-6d6b-4f68-83b1-fb602e03d4ef",
   "metadata": {},
   "outputs": [
    {
     "name": "stdin",
     "output_type": "stream",
     "text": [
      "Enter a string containing a person's first, middle, and last names Sofia Suzanne Varela\n"
     ]
    },
    {
     "name": "stdout",
     "output_type": "stream",
     "text": [
      "S.S.V.\n",
      "The program displays their first, middle, and last initials \n"
     ]
    }
   ],
   "source": [
    "# First we will define the main function and have a sentenced displayed last:\n",
    "def main():\n",
    "    print(\"Above is displayed the first, middle, and last initials \")\n",
    "# Next we will define the variable and ask the user to input their full name:\n",
    "full_name = input(\"Enter in your first, middle, and last names\")\n",
    "# Now we can make sure the format with the dot after every initial is correct and combine the full name split:\n",
    "first_name, middle_name, last_name = full_name.split() \n",
    "initials=first_name[0]+\".\"+middle_name[0]+\".\"+last_name[0]+\".\"\n",
    "# Lastly we can print the initials and call to the main function:\n",
    "print(initials)\n",
    "main()"
   ]
  },
  {
   "cell_type": "markdown",
   "id": "d3476112-d8a1-4122-a544-bf53644ee8ae",
   "metadata": {},
   "source": [
    "Programming Exercises #10"
   ]
  },
  {
   "cell_type": "markdown",
   "id": "59c0063d-8786-42af-8c6d-fb135490d685",
   "metadata": {},
   "source": [
    "Write a program that lets the user enter a string and displays the character that appears most frequently in the string. "
   ]
  },
  {
   "cell_type": "code",
   "execution_count": null,
   "id": "8dd434de-d1e5-4403-ad26-125ccba4e038",
   "metadata": {},
   "outputs": [],
   "source": [
    "# I had some trouble trying to figure out how I would write to find the most frequent character but this youtube video helped me https://www.youtube.com/watch?v=3q870RQRzcc"
   ]
  },
  {
   "cell_type": "code",
   "execution_count": 54,
   "id": "34b8c70a-6057-4d9f-906a-b409bc5f2a46",
   "metadata": {},
   "outputs": [
    {
     "name": "stdin",
     "output_type": "stream",
     "text": [
      "Enter a string :  Hello how was your day today\n"
     ]
    },
    {
     "name": "stdout",
     "output_type": "stream",
     "text": [
      "Character : o has highest frequency of : 4\n"
     ]
    }
   ],
   "source": [
    "# First we will define the string and ask the user to input:\n",
    "my_string = input(\"Enter a string : \")\n",
    "\n",
    "# The video also says this is optional but I wanted to:\n",
    "my_string = \"\".join(my_string.split())\n",
    "# Next he explains how we can use letter for the character most used and the range for which it is accounted for:\n",
    "my_counter = {}\n",
    "for letter in my_string:\n",
    "    if letter in my_counter:\n",
    "        my_counter[letter] += 1\n",
    "    else:\n",
    "        my_counter[letter] = 1\n",
    "\n",
    "max_key = max(my_counter, key=my_counter.get)\n",
    "# Lastly we want to print out our results:\n",
    "print(f\"Character : {max_key} has highest frequency of : {my_counter[max_key]}\")\n",
    "\n",
    "\n"
   ]
  },
  {
   "cell_type": "markdown",
   "id": "26cc306a-b690-4847-9c78-d17f6fd70ba1",
   "metadata": {},
   "source": [
    "Programming Exercise #9\n"
   ]
  },
  {
   "cell_type": "markdown",
   "id": "82b718c9-0460-4761-980b-685f21753fdd",
   "metadata": {},
   "source": [
    "Write a program with a function that accepts a string as an argument and returns the number of vowels that the string contains. The application should have another function that accepts a string as an argument and returns the number of consonants that the string contains. The application should let the user enter a string, and should display the number of vowels and the number of consonants it contains."
   ]
  },
  {
   "cell_type": "code",
   "execution_count": null,
   "id": "525ae75f-18f8-4e8a-a021-6c76f803dae8",
   "metadata": {},
   "outputs": [],
   "source": [
    "# First we want to define the the count of how many vowels will be in the string inputed by the user:\n",
    "def count_vowels(input_string):\n",
    "# Next we will define what the vowels consists of and start at 0 for the variable:    \n",
    "    vowels = \"aeiou\"\n",
    "    vowel_count = 0\n",
    "# Next we will create the loop and the count of vowels then return it:    \n",
    "    for char in input_string:\n",
    "        if char in vowels:\n",
    "            vowel_count += 1\n",
    "    return vowel_count\n",
    "# Next we will define the count of consonants with what vowels are what that consists of:\n",
    "def count_consonants(input_string):\n",
    "    vowels = \"aeiou\"\n",
    "    consonant_count = 0\n",
    "    for char in input_string:\n",
    "        if char.isalpha() and char not in vowels:\n",
    "            consonant_count += 1\n",
    "    return consonant_count\n",
    "\n",
    "# Next we will define the main function:\n",
    "def main():\n",
    "    input_string = input(\"Enter a string: \")\n",
    "# This is how we will count the vowels\n",
    "    num_vowels = count_vowels(input_string)\n",
    "    print(\"Number of vowels:\", num_vowels)\n",
    "# This is how we will count the consonants: \n",
    "    num_consonants = count_consonants(input_string)\n",
    "    print(\"Number of consonants:\", num_consonants)\n",
    "# Lastly we will call to the main function:\n",
    "if __name__ == \"__main__\":\n",
    "    main()\n"
   ]
  },
  {
   "cell_type": "code",
   "execution_count": null,
   "id": "40e0aa9f-0a0d-403c-84fb-662bd10757bb",
   "metadata": {},
   "outputs": [],
   "source": []
  }
 ],
 "metadata": {
  "kernelspec": {
   "display_name": "anaconda-2024.02-py310",
   "language": "python",
   "name": "conda-env-anaconda-2024.02-py310-py"
  },
  "language_info": {
   "codemirror_mode": {
    "name": "ipython",
    "version": 3
   },
   "file_extension": ".py",
   "mimetype": "text/x-python",
   "name": "python",
   "nbconvert_exporter": "python",
   "pygments_lexer": "ipython3",
   "version": "3.10.14"
  }
 },
 "nbformat": 4,
 "nbformat_minor": 5
}
