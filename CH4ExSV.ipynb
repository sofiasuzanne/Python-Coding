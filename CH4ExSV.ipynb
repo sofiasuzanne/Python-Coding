{
 "cells": [
  {
   "cell_type": "markdown",
   "id": "5d816048-563a-475f-8fb0-dff9b2c5126e",
   "metadata": {},
   "source": [
    "Chapter 4 Exercises: "
   ]
  },
  {
   "cell_type": "markdown",
   "id": "59e5f916-eef5-4908-9438-d148a3459169",
   "metadata": {},
   "source": [
    "Algorithm Workbench #3"
   ]
  },
  {
   "cell_type": "markdown",
   "id": "110ea13c-91f6-4200-903d-fceddc9283d8",
   "metadata": {},
   "source": [
    "Write a FOR loop that displays the following sets of numbers: 0,10,20,30,40,50 ... 1000"
   ]
  },
  {
   "cell_type": "code",
   "execution_count": 6,
   "id": "ddffd4ea-0f0a-4c3d-b8d1-06ab1f555dad",
   "metadata": {},
   "outputs": [
    {
     "name": "stdout",
     "output_type": "stream",
     "text": [
      "0, 10, 20, 30, 40, 50, 60, 70, 80, 90, 100, 110, 120, 130, 140, 150, 160, 170, 180, 190, 200, 210, 220, 230, 240, 250, 260, 270, 280, 290, 300, 310, 320, 330, 340, 350, 360, 370, 380, 390, 400, 410, 420, 430, 440, 450, 460, 470, 480, 490, 500, 510, 520, 530, 540, 550, 560, 570, 580, 590, 600, 610, 620, 630, 640, 650, 660, 670, 680, 690, 700, 710, 720, 730, 740, 750, 760, 770, 780, 790, 800, 810, 820, 830, 840, 850, 860, 870, 880, 890, 900, 910, 920, 930, 940, 950, 960, 970, 980, 990, 1000\n"
     ]
    }
   ],
   "source": [
    "# First we want to write the for clause for the range and how we display the numbers through a 1000 by 10s\n",
    "for i in range(0, 1001, 10):\n",
    "# Next we will write the if-else statement to display what a number would input past our range and within our range:   \n",
    "    if i != 1000:\n",
    "        print(i, end=', ')\n",
    "    else:\n",
    "        print(i)\n"
   ]
  },
  {
   "cell_type": "markdown",
   "id": "f2574d41-0258-41fb-a1a0-9fc79d9e25d8",
   "metadata": {},
   "source": [
    "Algorithm Workbench #4"
   ]
  },
  {
   "cell_type": "markdown",
   "id": "903bcb8b-7030-4b0c-bca3-7cb6102ddcff",
   "metadata": {},
   "source": [
    "Write a loop that asks the user to enter a number. The loop should iterate 10 times and keep a running total of the numbers entered. "
   ]
  },
  {
   "cell_type": "code",
   "execution_count": 12,
   "id": "c926a845-6ce2-4a32-a567-c74578c75897",
   "metadata": {},
   "outputs": [
    {
     "name": "stdin",
     "output_type": "stream",
     "text": [
      "Enter a number:  2.2\n",
      "Enter a number:  3\n",
      "Enter a number:  4.2\n",
      "Enter a number:  5.5\n",
      "Enter a number:  6\n",
      "Enter a number:  2.4\n",
      "Enter a number:  1\n",
      "Enter a number:  7\n",
      "Enter a number:  9\n",
      "Enter a number:  5\n"
     ]
    },
    {
     "name": "stdout",
     "output_type": "stream",
     "text": [
      "The total sum of the numbers entered: 45.3\n"
     ]
    }
   ],
   "source": [
    "# First we want to name the variable total for our running total of the numbers entered:\n",
    "Total = 0\n",
    "# Next we want to specify that we want to run our loop 10 times:\n",
    "for i in range(10):\n",
    "# Now we can ask the user to enter a number using the input function  \n",
    "    Number = float(input(\"Enter a number: \"))\n",
    "# Our final step is to write a statement that assigns the value to the total+number to the total, using an augmented assignment operator:    \n",
    "    Total = Total+Number\n",
    "# Then we can ask to display the output of our code: \n",
    "print(\"The total sum of the numbers entered:\", Total)\n"
   ]
  },
  {
   "cell_type": "markdown",
   "id": "b59e4857-351e-4167-99f7-28f6fa647794",
   "metadata": {},
   "source": [
    "Programming Exercises #1"
   ]
  },
  {
   "cell_type": "markdown",
   "id": "df82a135-477d-4b39-ab3e-df3694624130",
   "metadata": {},
   "source": [
    "A bug collector collects bugs every day for five days.\n",
    "Write a program that keeps a running total of the number of bugs collected during the five days.\n",
    "The loop should ask for the number of bugs collected for each day\n"
   ]
  },
  {
   "cell_type": "code",
   "execution_count": 18,
   "id": "c22ab135-b53f-4750-a964-3a480ab459b2",
   "metadata": {},
   "outputs": [
    {
     "name": "stdin",
     "output_type": "stream",
     "text": [
      "Enter the number of bugs collected on day 1:  23\n",
      "Enter the number of bugs collected on day 2:  13\n",
      "Enter the number of bugs collected on day 3:  11\n",
      "Enter the number of bugs collected on day 4:  18\n",
      "Enter the number of bugs collected on day 5:  21\n"
     ]
    },
    {
     "name": "stdout",
     "output_type": "stream",
     "text": [
      "Total number of bugs collected in five days: 86\n"
     ]
    }
   ],
   "source": [
    "# First we want to name the variable total bugs for our running total of the number of bugs collected:\n",
    "Total_bugs = 0\n",
    "# Next we want to specify that we want to run our loop for every 5 days:\n",
    "for day in range(1, 6):\n",
    "# Now we can ask the user the number of bugs collected on the specific days using the input function:   \n",
    "    Bugs_collected = int(input(\"Enter the number of bugs collected on day {}: \".format(day)))\n",
    "# Then we write the statement that assigns the value to the total+number to the total of number bugs collected:   \n",
    "    Total_bugs = Total_bugs+Bugs_collected\n",
    "# Lastly we can ask to display the output of number bugs collected in the five days:\n",
    "print(\"Total number of bugs collected in five days:\", Total_bugs)\n"
   ]
  },
  {
   "cell_type": "markdown",
   "id": "ce926971-6d5d-4b1b-84c2-2169287dc0e5",
   "metadata": {},
   "source": [
    "Programming Exercise #4"
   ]
  },
  {
   "cell_type": "markdown",
   "id": "f9913eae-e808-4d1e-9415-7946d0342e8c",
   "metadata": {},
   "source": [
    "The distance a vehicle travels can be calculated as follows: distance=speedxtime \n",
    "For example, if a train travels 40 miles per hour for three hours, the distance traveled is 120 miles.\n",
    "Write a program that asks the user for the speed of a vehicle (in miles per hour) and the number of hours it has traveled."
   ]
  },
  {
   "cell_type": "code",
   "execution_count": 25,
   "id": "d2b72544-f48b-406a-8ede-a3ba9cd113a1",
   "metadata": {},
   "outputs": [
    {
     "name": "stdin",
     "output_type": "stream",
     "text": [
      "Enter the speed of the vehicle (in MPH):  45\n",
      "Enter the number of hours the vehicle has traveled:  4\n"
     ]
    },
    {
     "name": "stdout",
     "output_type": "stream",
     "text": [
      "Hour\\Distance Traveled\n",
      "-------------------------\n",
      "1 45.0\n",
      "2 90.0\n",
      "3 135.0\n",
      "4 180.0\n"
     ]
    }
   ],
   "source": [
    "# First we want to ask the user the speed of the vehicle in MPH and the hours in which the vehicle has traveled using the input function: \n",
    "# We will want to use float for the speed because of the decimal but we can keep it simple for the hours and keep it to whole hours:\n",
    "speed = float(input(\"Enter the speed of the vehicle (in MPH): \"))\n",
    "hours = int(input(\"Enter the number of hours the vehicle has traveled: \"))\n",
    "# Next we can ask to print the hour and distance traveled:\n",
    "print(\"Hour\\Distance Traveled\")\n",
    "print(\"-------------------------\")\n",
    "# Next we can use the for clause to get the range we want:\n",
    "for hour in range(1, hours + 1):\n",
    "# Now we can write the formula and use the hour for the time:   \n",
    "    distance = speed * hour\n",
    "# We can ask it to display the hour and distance that the vehicle has traveled:    \n",
    "    print(hour, distance)\n"
   ]
  },
  {
   "cell_type": "markdown",
   "id": "bd4d2413-7547-48ed-bb78-68da7a73854d",
   "metadata": {},
   "source": [
    "Programming Exercise #12\n"
   ]
  },
  {
   "cell_type": "markdown",
   "id": "f28c3c1b-ca7a-4021-8e67-b144d9613aeb",
   "metadata": {},
   "source": [
    "Write a program that predicts the approximate size of a population of organisms. \n",
    "The application should prompt the user to enter the starting number of organisms, the average daily population increase (as a percentage), and the number of days the organisms will be left to multiply."
   ]
  },
  {
   "cell_type": "code",
   "execution_count": 33,
   "id": "1941dfa6-3387-4d6f-a4d6-3f9af0be4538",
   "metadata": {},
   "outputs": [
    {
     "name": "stdin",
     "output_type": "stream",
     "text": [
      "Enter the starting number of organisms:  44\n",
      "Enter the average daily population increase (as a percentage):  3\n",
      "Enter the number of days the organisms will be left to multiply:  6\n"
     ]
    },
    {
     "name": "stdout",
     "output_type": "stream",
     "text": [
      "\n",
      "Day\tApproximate_Population\n",
      "----------------\n",
      "1 \t 44\n",
      "2 \t 45.32\n",
      "3 \t 46.6796\n",
      "4 \t 48.079988\n",
      "5 \t 49.52238764\n",
      "6 \t 51.0080592692\n"
     ]
    }
   ],
   "source": [
    "# First we want to ask the user to enter the starting number of organisms using the input function:\n",
    "Start_Population = int(input(\"Enter the starting number of organisms: \"))\n",
    "# Next we can ask the user the average daily population increase as a percentage using the input function:\n",
    "Daily_Population_Increase = float(input(\"Enter the average daily population increase (as a percentage): \"))\n",
    "# Now we can also include the number of days the organism will be left to multiply using the input function:\n",
    "Days = int(input(\"Enter the number of days the organisms will be left to multiply: \"))\n",
    "# Now we can assign the population to the starting number the user inputed and continue with our program:\n",
    "Approximate_Population = Start_Population\n",
    "# Next we can ask to print the day with the approximate population\n",
    "print(\"\\nDay\\tApproximate_Population\")\n",
    "print(\"----------------\")\n",
    "# Lastly we can use the for clause to range the number of days:\n",
    "for day in range(1, Days + 1):\n",
    "# Then we will ask it to display our results in the table:   \n",
    "    print(day, \"\\t\", Approximate_Population)   \n",
    "    Approximate_Population *= (1 + Daily_Population_Increase / 100)\n"
   ]
  },
  {
   "cell_type": "markdown",
   "id": "b1f3d81b-883f-420a-80ee-282ffff69c1e",
   "metadata": {},
   "source": [
    "Programming Exercise #15"
   ]
  },
  {
   "cell_type": "markdown",
   "id": "bad427f4-2417-4a54-834d-a2b32aad001c",
   "metadata": {},
   "source": [
    "In this chapter, you saw an example of a loop that draws a square. Write a turtle graphics program that uses nested loops to draw 100 squares"
   ]
  },
  {
   "cell_type": "code",
   "execution_count": 43,
   "id": "ab137b07-2e4b-4055-9728-1666c36dea9a",
   "metadata": {},
   "outputs": [
    {
     "ename": "TclError",
     "evalue": "no display name and no $DISPLAY environment variable",
     "output_type": "error",
     "traceback": [
      "\u001b[0;31m---------------------------------------------------------------------------\u001b[0m",
      "\u001b[0;31mTclError\u001b[0m                                  Traceback (most recent call last)",
      "Cell \u001b[0;32mIn[43], line 5\u001b[0m\n\u001b[1;32m      2\u001b[0m \u001b[38;5;28;01mimport\u001b[39;00m \u001b[38;5;21;01mturtle\u001b[39;00m\n\u001b[1;32m      4\u001b[0m \u001b[38;5;66;03m# Create a new turtle screen and set its background color with plain white:\u001b[39;00m\n\u001b[0;32m----> 5\u001b[0m screen \u001b[38;5;241m=\u001b[39m \u001b[43mturtle\u001b[49m\u001b[38;5;241;43m.\u001b[39;49m\u001b[43mScreen\u001b[49m\u001b[43m(\u001b[49m\u001b[43m)\u001b[49m\n\u001b[1;32m      6\u001b[0m screen\u001b[38;5;241m.\u001b[39mbgcolor(\u001b[38;5;124m\"\u001b[39m\u001b[38;5;124mwhite\u001b[39m\u001b[38;5;124m\"\u001b[39m)\n\u001b[1;32m      8\u001b[0m \u001b[38;5;66;03m# Create a new turtle named \"square\"\u001b[39;00m\n",
      "File \u001b[0;32m/opt/conda/envs/anaconda-2024.02-py310/lib/python3.10/turtle.py:3664\u001b[0m, in \u001b[0;36mScreen\u001b[0;34m()\u001b[0m\n\u001b[1;32m   3660\u001b[0m \u001b[38;5;250m\u001b[39m\u001b[38;5;124;03m\"\"\"Return the singleton screen object.\u001b[39;00m\n\u001b[1;32m   3661\u001b[0m \u001b[38;5;124;03mIf none exists at the moment, create a new one and return it,\u001b[39;00m\n\u001b[1;32m   3662\u001b[0m \u001b[38;5;124;03melse return the existing one.\"\"\"\u001b[39;00m\n\u001b[1;32m   3663\u001b[0m \u001b[38;5;28;01mif\u001b[39;00m Turtle\u001b[38;5;241m.\u001b[39m_screen \u001b[38;5;129;01mis\u001b[39;00m \u001b[38;5;28;01mNone\u001b[39;00m:\n\u001b[0;32m-> 3664\u001b[0m     Turtle\u001b[38;5;241m.\u001b[39m_screen \u001b[38;5;241m=\u001b[39m \u001b[43m_Screen\u001b[49m\u001b[43m(\u001b[49m\u001b[43m)\u001b[49m\n\u001b[1;32m   3665\u001b[0m \u001b[38;5;28;01mreturn\u001b[39;00m Turtle\u001b[38;5;241m.\u001b[39m_screen\n",
      "File \u001b[0;32m/opt/conda/envs/anaconda-2024.02-py310/lib/python3.10/turtle.py:3680\u001b[0m, in \u001b[0;36m_Screen.__init__\u001b[0;34m(self)\u001b[0m\n\u001b[1;32m   3673\u001b[0m \u001b[38;5;28;01mdef\u001b[39;00m \u001b[38;5;21m__init__\u001b[39m(\u001b[38;5;28mself\u001b[39m):\n\u001b[1;32m   3674\u001b[0m     \u001b[38;5;66;03m# XXX there is no need for this code to be conditional,\u001b[39;00m\n\u001b[1;32m   3675\u001b[0m     \u001b[38;5;66;03m# as there will be only a single _Screen instance, anyway\u001b[39;00m\n\u001b[1;32m   3676\u001b[0m     \u001b[38;5;66;03m# XXX actually, the turtle demo is injecting root window,\u001b[39;00m\n\u001b[1;32m   3677\u001b[0m     \u001b[38;5;66;03m# so perhaps the conditional creation of a root should be\u001b[39;00m\n\u001b[1;32m   3678\u001b[0m     \u001b[38;5;66;03m# preserved (perhaps by passing it as an optional parameter)\u001b[39;00m\n\u001b[1;32m   3679\u001b[0m     \u001b[38;5;28;01mif\u001b[39;00m _Screen\u001b[38;5;241m.\u001b[39m_root \u001b[38;5;129;01mis\u001b[39;00m \u001b[38;5;28;01mNone\u001b[39;00m:\n\u001b[0;32m-> 3680\u001b[0m         _Screen\u001b[38;5;241m.\u001b[39m_root \u001b[38;5;241m=\u001b[39m \u001b[38;5;28mself\u001b[39m\u001b[38;5;241m.\u001b[39m_root \u001b[38;5;241m=\u001b[39m \u001b[43m_Root\u001b[49m\u001b[43m(\u001b[49m\u001b[43m)\u001b[49m\n\u001b[1;32m   3681\u001b[0m         \u001b[38;5;28mself\u001b[39m\u001b[38;5;241m.\u001b[39m_root\u001b[38;5;241m.\u001b[39mtitle(_Screen\u001b[38;5;241m.\u001b[39m_title)\n\u001b[1;32m   3682\u001b[0m         \u001b[38;5;28mself\u001b[39m\u001b[38;5;241m.\u001b[39m_root\u001b[38;5;241m.\u001b[39mondestroy(\u001b[38;5;28mself\u001b[39m\u001b[38;5;241m.\u001b[39m_destroy)\n",
      "File \u001b[0;32m/opt/conda/envs/anaconda-2024.02-py310/lib/python3.10/turtle.py:435\u001b[0m, in \u001b[0;36m_Root.__init__\u001b[0;34m(self)\u001b[0m\n\u001b[1;32m    434\u001b[0m \u001b[38;5;28;01mdef\u001b[39;00m \u001b[38;5;21m__init__\u001b[39m(\u001b[38;5;28mself\u001b[39m):\n\u001b[0;32m--> 435\u001b[0m     \u001b[43mTK\u001b[49m\u001b[38;5;241;43m.\u001b[39;49m\u001b[43mTk\u001b[49m\u001b[38;5;241;43m.\u001b[39;49m\u001b[38;5;21;43m__init__\u001b[39;49m\u001b[43m(\u001b[49m\u001b[38;5;28;43mself\u001b[39;49m\u001b[43m)\u001b[49m\n",
      "File \u001b[0;32m/opt/conda/envs/anaconda-2024.02-py310/lib/python3.10/tkinter/__init__.py:2299\u001b[0m, in \u001b[0;36mTk.__init__\u001b[0;34m(self, screenName, baseName, className, useTk, sync, use)\u001b[0m\n\u001b[1;32m   2297\u001b[0m         baseName \u001b[38;5;241m=\u001b[39m baseName \u001b[38;5;241m+\u001b[39m ext\n\u001b[1;32m   2298\u001b[0m interactive \u001b[38;5;241m=\u001b[39m \u001b[38;5;28;01mFalse\u001b[39;00m\n\u001b[0;32m-> 2299\u001b[0m \u001b[38;5;28mself\u001b[39m\u001b[38;5;241m.\u001b[39mtk \u001b[38;5;241m=\u001b[39m \u001b[43m_tkinter\u001b[49m\u001b[38;5;241;43m.\u001b[39;49m\u001b[43mcreate\u001b[49m\u001b[43m(\u001b[49m\u001b[43mscreenName\u001b[49m\u001b[43m,\u001b[49m\u001b[43m \u001b[49m\u001b[43mbaseName\u001b[49m\u001b[43m,\u001b[49m\u001b[43m \u001b[49m\u001b[43mclassName\u001b[49m\u001b[43m,\u001b[49m\u001b[43m \u001b[49m\u001b[43minteractive\u001b[49m\u001b[43m,\u001b[49m\u001b[43m \u001b[49m\u001b[43mwantobjects\u001b[49m\u001b[43m,\u001b[49m\u001b[43m \u001b[49m\u001b[43museTk\u001b[49m\u001b[43m,\u001b[49m\u001b[43m \u001b[49m\u001b[43msync\u001b[49m\u001b[43m,\u001b[49m\u001b[43m \u001b[49m\u001b[43muse\u001b[49m\u001b[43m)\u001b[49m\n\u001b[1;32m   2300\u001b[0m \u001b[38;5;28;01mif\u001b[39;00m useTk:\n\u001b[1;32m   2301\u001b[0m     \u001b[38;5;28mself\u001b[39m\u001b[38;5;241m.\u001b[39m_loadtk()\n",
      "\u001b[0;31mTclError\u001b[0m: no display name and no $DISPLAY environment variable"
     ]
    }
   ],
   "source": [
    "# Had to ask AI for help with this one. I was mainly confused on how you asked how big you wanted your square to be and the set up besides the fact that it was 100 squares:\n",
    "import turtle\n",
    "\n",
    "# Create a new turtle screen and set its background color with plain white:\n",
    "screen = turtle.Screen()\n",
    "screen.bgcolor(\"white\")\n",
    "\n",
    "# Create a new turtle named \"square\"\n",
    "square = turtle.Turtle()\n",
    "\n",
    "# Set the speed of the turtle\n",
    "square.speed(10)\n",
    "\n",
    "# Next we will use a for clause or a for loop to insure we have 100 squares:\n",
    "for i in range(100):\n",
    "# Use another for loop to draw the next square:\n",
    "  for j in range(4):\n",
    "      square.forward(100) \n",
    "  square.right(90)     \n",
    "# Now we will move the turtle to a new position without drawing anything\n",
    "  square.penup()\n",
    "  square.forward(10)  \n",
    "  square.pendown()\n",
    "\n",
    "# Lastly we hide the turtle/close the turtle graphics window\n",
    "square.hideturtle()\n",
    "turtle.done()"
   ]
  },
  {
   "cell_type": "code",
   "execution_count": null,
   "id": "d4c7d5d7-baa3-43bd-9e0f-59b8b722733b",
   "metadata": {},
   "outputs": [],
   "source": []
  }
 ],
 "metadata": {
  "kernelspec": {
   "display_name": "anaconda-2024.02-py310",
   "language": "python",
   "name": "conda-env-anaconda-2024.02-py310-py"
  },
  "language_info": {
   "codemirror_mode": {
    "name": "ipython",
    "version": 3
   },
   "file_extension": ".py",
   "mimetype": "text/x-python",
   "name": "python",
   "nbconvert_exporter": "python",
   "pygments_lexer": "ipython3",
   "version": "3.10.14"
  }
 },
 "nbformat": 4,
 "nbformat_minor": 5
}
