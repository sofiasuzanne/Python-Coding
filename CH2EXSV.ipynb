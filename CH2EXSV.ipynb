{
 "cells": [
  {
   "cell_type": "markdown",
   "id": "ab9ebfb1-c87f-4dc0-89c9-6cd1a70a4386",
   "metadata": {},
   "source": [
    "Chapter 2 Exercises"
   ]
  },
  {
   "cell_type": "markdown",
   "id": "e37f74ab-df1c-481a-afde-183e5694a993",
   "metadata": {},
   "source": [
    "Algorithm Workbench #2"
   ]
  },
  {
   "cell_type": "markdown",
   "id": "77f29a79-1ce4-4ebd-b72c-6d49bb42d6fe",
   "metadata": {},
   "source": [
    "Enter favorite color and assign the input to variable named color: "
   ]
  },
  {
   "cell_type": "markdown",
   "id": "2406ba37-ea37-40d4-b89e-31def5486cea",
   "metadata": {},
   "source": [
    "variable=expression (=) is the assignment operator"
   ]
  },
  {
   "cell_type": "code",
   "execution_count": 14,
   "id": "891a6da3-7166-48d5-ac52-6b38cb9e8bad",
   "metadata": {},
   "outputs": [
    {
     "name": "stdin",
     "output_type": "stream",
     "text": [
      "Enter favorite color red\n"
     ]
    }
   ],
   "source": [
    "color=input('Enter favorite color')"
   ]
  },
  {
   "cell_type": "markdown",
   "id": "eb3ad588-9223-4db1-99d8-77266ef6b0e5",
   "metadata": {},
   "source": [
    "Programming Exercise #7"
   ]
  },
  {
   "cell_type": "markdown",
   "id": "b9ce9572-6c95-482a-8221-c19f67e44cbd",
   "metadata": {},
   "source": [
    "Calculate MPG by miles driven divided by gallons of gas used and display"
   ]
  },
  {
   "cell_type": "markdown",
   "id": "a63c951b-83df-4b6c-a496-f5225a44d6d3",
   "metadata": {},
   "source": [
    "First get number miles driven"
   ]
  },
  {
   "cell_type": "code",
   "execution_count": 23,
   "id": "f39419ac-8daf-43c6-b27a-5dafabdef231",
   "metadata": {},
   "outputs": [
    {
     "name": "stdin",
     "output_type": "stream",
     "text": [
      "Enter number of miles driven: 10\n",
      "Enter number of gallons used: 2\n"
     ]
    },
    {
     "name": "stdout",
     "output_type": "stream",
     "text": [
      "The miles per gallon (MPG) is: 5.0\n"
     ]
    }
   ],
   "source": [
    "miles_driven=float(input(\"Enter number of miles driven:\"))\n",
    "# Next value assigned for number of gallons used\n",
    "gallons_used=float(input(\"Enter number of gallons used:\"))\n",
    "# Now calculate the MPG (Miles per gallon) \n",
    "MPG = miles_driven / gallons_used\n",
    "# Now we can use the print function to display our results\n",
    "print(\"The miles per gallon (MPG) is:\", MPG)\n"
   ]
  },
  {
   "cell_type": "markdown",
   "id": "1d055c3a-7b52-4682-afb4-46ea4e85be6c",
   "metadata": {},
   "source": [
    "Programming Excerise #13"
   ]
  },
  {
   "cell_type": "markdown",
   "id": "4e6f40bb-f42f-4d68-ad58-1125083a5789",
   "metadata": {},
   "source": [
    "Planting Grapevines V=(R-2E)/S  "
   ]
  },
  {
   "cell_type": "markdown",
   "id": "9aaec122-b95f-499a-8899-50bda8d09438",
   "metadata": {},
   "source": [
    "First we start with assigning the value to R (the length of the row in feet)"
   ]
  },
  {
   "cell_type": "code",
   "execution_count": 62,
   "id": "07fc199d-cc52-468f-b4c1-58f36db49ae3",
   "metadata": {},
   "outputs": [
    {
     "name": "stdin",
     "output_type": "stream",
     "text": [
      "Enter length of the row in feet: 15\n",
      "Enter space used by the end post assemblies in feet: 4\n",
      "Enter space between vines in feet: 2\n"
     ]
    },
    {
     "name": "stdout",
     "output_type": "stream",
     "text": [
      "The number of vines per row: 11.0\n"
     ]
    }
   ],
   "source": [
    "R=int(input(\"Enter length of the row in feet:\"))\n",
    "# Now we want to assign the value to the next variable which is E (space used by end post assemblies)\n",
    "E=int(input(\"Enter space used by the end post assemblies in feet:\"))\n",
    "# Next we want to assign the value to the next variable which is S (space between vines)\n",
    "S=int(input(\"Enter space between vines in feet:\"))   \n",
    "# Now we can put it all together in the function we were given above \n",
    "V= (R-(2 * E)/S)\n",
    "# Now we can display our results using the print function\n",
    "print(\"The number of vines per row:\", V)\n",
    "      "
   ]
  },
  {
   "cell_type": "code",
   "execution_count": null,
   "id": "e54ce159-9469-454b-a5e5-0f8d4495ccad",
   "metadata": {},
   "outputs": [],
   "source": []
  }
 ],
 "metadata": {
  "kernelspec": {
   "display_name": "anaconda-2024.02-py310",
   "language": "python",
   "name": "conda-env-anaconda-2024.02-py310-py"
  },
  "language_info": {
   "codemirror_mode": {
    "name": "ipython",
    "version": 3
   },
   "file_extension": ".py",
   "mimetype": "text/x-python",
   "name": "python",
   "nbconvert_exporter": "python",
   "pygments_lexer": "ipython3",
   "version": "3.10.14"
  }
 },
 "nbformat": 4,
 "nbformat_minor": 5
}
