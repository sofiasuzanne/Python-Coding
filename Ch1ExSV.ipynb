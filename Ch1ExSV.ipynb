{
 "cells": [
  {
   "cell_type": "markdown",
   "id": "efb29f87-816a-43dd-b32d-a22a6026638a",
   "metadata": {},
   "source": [
    "Chapter 1 Ex.\n",
    "Problems 1,3,6"
   ]
  },
  {
   "cell_type": "markdown",
   "id": "c5f23a21-c93c-485d-a004-ed809f23e173",
   "metadata": {},
   "source": [
    "#1"
   ]
  },
  {
   "cell_type": "code",
   "execution_count": 4,
   "id": "d93dd2e7-3f37-4e23-849d-49884bc00b4f",
   "metadata": {},
   "outputs": [
    {
     "name": "stdout",
     "output_type": "stream",
     "text": [
      "This is a test of the Python interpreter.\n"
     ]
    }
   ],
   "source": [
    "print('This is a test of the Python interpreter.')"
   ]
  },
  {
   "cell_type": "code",
   "execution_count": 7,
   "id": "10482621-2e03-4944-8e75-15848ac4fc6b",
   "metadata": {},
   "outputs": [
    {
     "name": "stdout",
     "output_type": "stream",
     "text": [
      "I had a great day today: it was 86 degrees out.\n"
     ]
    }
   ],
   "source": [
    "print('I had a great day today: it was 86 degrees out.')"
   ]
  },
  {
   "cell_type": "markdown",
   "id": "7cd68e56-8248-4b59-bae1-4c3b34fe67e4",
   "metadata": {},
   "source": [
    "#3"
   ]
  },
  {
   "cell_type": "markdown",
   "id": "123ae721-faa0-4303-b7e8-3f35784ae8f6",
   "metadata": {},
   "source": [
    "Convert the following decimal numbers to binary: 11, 65, 100, 255\n",
    "11= 1011 (Using the power of 2) biggest power of 2 that is less than 11 is 8, with a remainder of 3. The biggest power of 2 that is less than 3 is 2, with a remainder of 1. Biggest power of 2 that is less than 1 is just 1. Adding these numbers up, 8+2+1= the decimal number 11. Looking at the values of two, 8=1 4=0 2=1 1=1 which gives us 1011. \n",
    "\n",
    "65= 1000001 (Using the power of 2) biggest power of 2 that is less than 65 is 64, with a remainder of 1. The biggest power of 2 that is less than 1 is just 1. Add the numbers up, 64+1, gives us our decimal number 65. Looking at the values of 2, 64=1 32=0 16=0 8=0 4=0 2=0 1=1 which gives us 1000001. \n",
    "\n",
    "100= 1100100 (Using power of 2) biggest power of 2 that is less than 100 is 64, with a remainder of 36. The biggest power of 2 that is less than 36 is 32 with a remainder of 4. The biggest power of 2 that is less than 4 is just 4. Adding the numbers up, 64+32+4 is our decimal number 100. Looking at the values of 2, 64=1 32=1 16=0 8=0 4=1 2=0 1=0 which gives us 1100100. \n",
    "\n",
    "255= 11111111 (Using the power of 2) biggest power of 2 less than 255 is 128 with a remainder of 127. The biggest power of 2 less than 127 is 64, with a remainder of 63. The biggest power of 2 less than 63 is 32, with a remainder of 31. The biggest power of 2 less than 31 is 16 with a remainder of 15. The biggest power of 2 less than 15 is 8, with a remainder of 7. The biggest power of 2 less than 7 is 4, with a remainder of 3. The biggest power of 2 less than 3 is 2, with a remainder of 1. The biggest power of 2 less than 1 is just 1. Adding these numbers up, 128+64+32+16+8+4+2+1= our decimal number 255. Looking at the values of 2, 128=1 64=1 32=1 16=1 8=1 4=1 2=1 1=1 which gives us 11111111."
   ]
  },
  {
   "cell_type": "markdown",
   "id": "c9c3a9b2-116d-4255-bdd2-a4b9d306271f",
   "metadata": {},
   "source": [
    "#6\n",
    "Who was the creator of Python? The creator of Python is Guido Van Rossum.\n",
    "When was Python created? Guido was creating/developing Python in 1989, and released it officially in 1991.\n",
    "The person who created Python is commonly referred to as the \"BDFL.\" What does this mean? BDFL means benevolent dictator for life, this was a title given to Guido to have a final say in all disputes in the languages continuing development. "
   ]
  },
  {
   "cell_type": "code",
   "execution_count": null,
   "id": "d9d4a589-a4dd-404c-aa2f-75182764cfa8",
   "metadata": {},
   "outputs": [],
   "source": []
  }
 ],
 "metadata": {
  "kernelspec": {
   "display_name": "anaconda-panel-2023.05-py310",
   "language": "python",
   "name": "conda-env-anaconda-panel-2023.05-py310-py"
  },
  "language_info": {
   "codemirror_mode": {
    "name": "ipython",
    "version": 3
   },
   "file_extension": ".py",
   "mimetype": "text/x-python",
   "name": "python",
   "nbconvert_exporter": "python",
   "pygments_lexer": "ipython3",
   "version": "3.11.5"
  }
 },
 "nbformat": 4,
 "nbformat_minor": 5
}
