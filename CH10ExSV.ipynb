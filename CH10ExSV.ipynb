{
 "cells": [
  {
   "cell_type": "markdown",
   "id": "e3da894f-014b-40a8-951c-ca3500298454",
   "metadata": {},
   "source": [
    "Chapter 10 Exercises"
   ]
  },
  {
   "cell_type": "markdown",
   "id": "a22fdf68-761c-4b60-ba3d-4758a062f93b",
   "metadata": {},
   "source": [
    "Programming Exercise #2"
   ]
  },
  {
   "cell_type": "markdown",
   "id": "abd01a43-7ec3-41f9-88e3-8a2723d8b76b",
   "metadata": {},
   "source": [
    "Write a class named Car that has the following data attributes:   (for the car’s year model) (for the make of the car) (for the car’s current speed)"
   ]
  },
  {
   "cell_type": "code",
   "execution_count": 4,
   "id": "1ea1b947-6421-4517-8866-dda5d961a1ff",
   "metadata": {},
   "outputs": [
    {
     "name": "stdout",
     "output_type": "stream",
     "text": [
      "Now Accelerating\n",
      "The current speed of the car: 5\n",
      "The current speed of the car: 10\n",
      "The current speed of the car: 15\n",
      "The current speed of the car: 20\n",
      "The current speed of the car: 25\n",
      "Now Braking\n",
      "The current speed of the car: 20\n",
      "The current speed of the car: 15\n",
      "The current speed of the car: 10\n",
      "The current speed of the car: 5\n",
      "The current speed of the car: 0\n"
     ]
    }
   ],
   "source": [
    "# First we want to write the class definition and it's attributes: car year model, make, and assign 0 to current speed:\n",
    "class Car:\n",
    "\n",
    "    def __init__(self, year_model, make):\n",
    "        self.year_model = year_model\n",
    "        self.make = make\n",
    "        self.current_speed = 0\n",
    "# Next we want to create and define the accelerate, brake, and get speed methods and repeat it 5 times for accelerate and brake methods.\n",
    "    def accelerate(self):\n",
    "        self.current_speed += 5\n",
    "\n",
    "    def brake(self):\n",
    "        if self.current_speed >= 5:\n",
    "            self.current_speed -= 5\n",
    "        else:\n",
    "            self.current_speed = 0\n",
    "\n",
    "    def get_speed(self):\n",
    "        return self.current_speed\n",
    "# Lastly we want to define my car with the make and year model:     \n",
    "My_car = Car(2019, \"Ford Mustang\")\n",
    "\n",
    "print(\"Now Accelerating\")\n",
    "\n",
    "My_car.accelerate()\n",
    "print(\"The current speed of the car:\", My_car.get_speed())\n",
    "My_car.accelerate()\n",
    "print(\"The current speed of the car:\", My_car.get_speed())\n",
    "My_car.accelerate()\n",
    "print(\"The current speed of the car:\", My_car.get_speed())\n",
    "My_car.accelerate()\n",
    "print(\"The current speed of the car:\", My_car.get_speed())\n",
    "My_car.accelerate()\n",
    "print(\"The current speed of the car:\", My_car.get_speed())\n",
    "\n",
    "print(\"Now Braking\")\n",
    "\n",
    "My_car.brake()\n",
    "print(\"The current speed of the car:\", My_car.get_speed())\n",
    "My_car.brake()\n",
    "print(\"The current speed of the car:\", My_car.get_speed())\n",
    "My_car.brake()\n",
    "print(\"The current speed of the car:\", My_car.get_speed())\n",
    "My_car.brake()\n",
    "print(\"The current speed of the car:\", My_car.get_speed())\n",
    "My_car.brake()\n",
    "print(\"The current speed of the car:\", My_car.get_speed())"
   ]
  },
  {
   "cell_type": "markdown",
   "id": "567a3367-c580-4840-ba07-21dd68ba9aac",
   "metadata": {},
   "source": [
    "Programming Exercise #3"
   ]
  },
  {
   "cell_type": "markdown",
   "id": "10f3a8c9-0b59-4db4-aa09-2edd84a37cc6",
   "metadata": {},
   "source": [
    "Design a class that holds the following personal data: name, address, age, and phone number. Write appropriate accessor and mutator methods. Also, write a program that creates three instances of the class. Each instance should hold fictional information for a fake person. (For privacy purposes, do not store real personal information in your program.)"
   ]
  },
  {
   "cell_type": "code",
   "execution_count": 22,
   "id": "2147535d-0369-49d4-9212-5862913d0592",
   "metadata": {},
   "outputs": [
    {
     "name": "stdout",
     "output_type": "stream",
     "text": [
      "Personal Information:\n",
      "Name: Sofia Varela\n",
      "Address: 2323 N Miami Ave C3, Miami, FL 33127\n",
      "Age: 19\n",
      "Phone Number: 2487952331\n",
      "\n",
      "Friends Personal Data:\n",
      "Name: Amelia Santos\n",
      "Address: 2200 NW 2nd Ave suite 107, Miami, FL 33127\n",
      "Age: 17\n",
      "Phone number: 2485007230\n",
      "\n",
      "Friends Personal Data:\n",
      "Name: Lorenzo Bolts\n",
      "Address: 137 NE 39th St, Miami, FL 33137\n",
      "Age: 25\n",
      "Phone number: 2482419634\n",
      "\n"
     ]
    }
   ],
   "source": [
    "# First we want to write a class definition for a fake person: we include the name, address, age and phone number:   \n",
    "class PersonalData:\n",
    "    def __init__(self, name, address, age, phone_number):\n",
    "        self.name = name\n",
    "        self.address = address\n",
    "        self.age = age\n",
    "        self.phone_number = phone_number\n",
    "# Now we want to use accessor methods and mutator methods to modify the values of the attributes and to retrieve them:\n",
    "    def get_name(self):\n",
    "        return self.name\n",
    "    \n",
    "    def get_address(self):\n",
    "        return self.address\n",
    "    \n",
    "    def get_age(self):\n",
    "        return self.age\n",
    "    \n",
    "    def get_phone_number(self):\n",
    "        return self.phone_number\n",
    "    \n",
    "    def set_name(self, name):\n",
    "        self.name = name\n",
    "    \n",
    "    def set_address(self, address):\n",
    "        self.address = address\n",
    "    \n",
    "    def set_age(self, age):\n",
    "        self.age = age\n",
    "    \n",
    "    def set_phone_number(self, phone_number):\n",
    "        self.phone_number = phone_number\n",
    "\n",
    "# Creating instances of the PersonalData class\n",
    "if __name__ == \"__main__\":\n",
    "   # Next we will write 3 instances for this class with the format of name, address, age, and phone number:\n",
    "\n",
    "    person1 = PersonalData(\"Sofia Varela\", \"2323 N Miami Ave C3, Miami, FL 33127\", 19, \"2487952331\")\n",
    "    person2 = PersonalData(\"Amelia Santos\", \"2200 NW 2nd Ave suite 107, Miami, FL 33127\", 17, \"2485007230\")\n",
    "    person3= PersonalData(\"Lorenzo Bolts\", \"137 NE 39th St, Miami, FL 33137\", 25, \"2482419634\")\n",
    "   \n",
    "# Lastly we will print the personal data:\n",
    "    print(\"Personal Information:\")\n",
    "    print(\"Name:\", person1.get_name())\n",
    "    print(\"Address:\", person1.get_address())\n",
    "    print(\"Age:\", person1.get_age())\n",
    "    print(\"Phone Number:\", person1.get_phone_number())\n",
    "    print()\n",
    "    \n",
    "    print(\"Friends Personal Data:\")\n",
    "    print(\"Name:\", person2.get_name())\n",
    "    print(\"Address:\", person2.get_address())\n",
    "    print(\"Age:\", person2.get_age())\n",
    "    print(\"Phone number:\", person2.get_phone_number())\n",
    "    print()\n",
    "\n",
    "    print(\"Friends Personal Data:\")\n",
    "    print(\"Name:\", person3.get_name())\n",
    "    print(\"Address:\", person3.get_address())\n",
    "    print(\"Age:\", person3.get_age())\n",
    "    print(\"Phone number:\", person3.get_phone_number())\n",
    "    print()"
   ]
  },
  {
   "cell_type": "code",
   "execution_count": null,
   "id": "1e9cf902-9543-420a-aa78-98e4fb340cb4",
   "metadata": {},
   "outputs": [],
   "source": []
  }
 ],
 "metadata": {
  "kernelspec": {
   "display_name": "anaconda-panel-2023.05-py310",
   "language": "python",
   "name": "conda-env-anaconda-panel-2023.05-py310-py"
  },
  "language_info": {
   "codemirror_mode": {
    "name": "ipython",
    "version": 3
   },
   "file_extension": ".py",
   "mimetype": "text/x-python",
   "name": "python",
   "nbconvert_exporter": "python",
   "pygments_lexer": "ipython3",
   "version": "3.11.5"
  }
 },
 "nbformat": 4,
 "nbformat_minor": 5
}
