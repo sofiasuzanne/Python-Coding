{
 "cells": [
  {
   "cell_type": "markdown",
   "id": "5d816048-563a-475f-8fb0-dff9b2c5126e",
   "metadata": {},
   "source": [
    "Chapter 4 Exercises: "
   ]
  },
  {
   "cell_type": "markdown",
   "id": "59e5f916-eef5-4908-9438-d148a3459169",
   "metadata": {},
   "source": [
    "Algorithm Workbench #3"
   ]
  },
  {
   "cell_type": "markdown",
   "id": "110ea13c-91f6-4200-903d-fceddc9283d8",
   "metadata": {},
   "source": [
    "Write a FOR loop that displays the following sets of numbers: 0,10,20,30,40,50 ... 1000"
   ]
  },
  {
   "cell_type": "code",
   "execution_count": 6,
   "id": "ddffd4ea-0f0a-4c3d-b8d1-06ab1f555dad",
   "metadata": {},
   "outputs": [
    {
     "name": "stdout",
     "output_type": "stream",
     "text": [
      "0, 10, 20, 30, 40, 50, 60, 70, 80, 90, 100, 110, 120, 130, 140, 150, 160, 170, 180, 190, 200, 210, 220, 230, 240, 250, 260, 270, 280, 290, 300, 310, 320, 330, 340, 350, 360, 370, 380, 390, 400, 410, 420, 430, 440, 450, 460, 470, 480, 490, 500, 510, 520, 530, 540, 550, 560, 570, 580, 590, 600, 610, 620, 630, 640, 650, 660, 670, 680, 690, 700, 710, 720, 730, 740, 750, 760, 770, 780, 790, 800, 810, 820, 830, 840, 850, 860, 870, 880, 890, 900, 910, 920, 930, 940, 950, 960, 970, 980, 990, 1000\n"
     ]
    }
   ],
   "source": [
    "# First we want to write the for clause for the range and how we display the numbers through a 1000 by 10s\n",
    "for i in range(0, 1001, 10):\n",
    "# Next we will write the if-else statement to display what a number would input past our range and within our range:   \n",
    "    if i != 1000:\n",
    "        print(i, end=', ')\n",
    "    else:\n",
    "        print(i)\n"
   ]
  },
  {
   "cell_type": "markdown",
   "id": "f2574d41-0258-41fb-a1a0-9fc79d9e25d8",
   "metadata": {},
   "source": [
    "Algorithm Workbench #4"
   ]
  },
  {
   "cell_type": "markdown",
   "id": "903bcb8b-7030-4b0c-bca3-7cb6102ddcff",
   "metadata": {},
   "source": [
    "Write a loop that asks the user to enter a number. The loop should iterate 10 times and keep a running total of the numbers entered. "
   ]
  },
  {
   "cell_type": "code",
   "execution_count": 12,
   "id": "c926a845-6ce2-4a32-a567-c74578c75897",
   "metadata": {},
   "outputs": [
    {
     "name": "stdin",
     "output_type": "stream",
     "text": [
      "Enter a number:  2.2\n",
      "Enter a number:  3\n",
      "Enter a number:  4.2\n",
      "Enter a number:  5.5\n",
      "Enter a number:  6\n",
      "Enter a number:  2.4\n",
      "Enter a number:  1\n",
      "Enter a number:  7\n",
      "Enter a number:  9\n",
      "Enter a number:  5\n"
     ]
    },
    {
     "name": "stdout",
     "output_type": "stream",
     "text": [
      "The total sum of the numbers entered: 45.3\n"
     ]
    }
   ],
   "source": [
    "# First we want to name the variable total for our running total of the numbers entered:\n",
    "Total = 0\n",
    "# Next we want to specify that we want to run our loop 10 times:\n",
    "for i in range(10):\n",
    "# Now we can ask the user to enter a number using the input function  \n",
    "    Number = float(input(\"Enter a number: \"))\n",
    "# Our final step is to write a statement that assigns the value to the total+number to the total, using an augmented assignment operator:    \n",
    "    Total = Total+Number\n",
    "# Then we can ask to display the output of our code: \n",
    "print(\"The total sum of the numbers entered:\", Total)\n"
   ]
  },
  {
   "cell_type": "markdown",
   "id": "b59e4857-351e-4167-99f7-28f6fa647794",
   "metadata": {},
   "source": [
    "Programming Exercises #1"
   ]
  },
  {
   "cell_type": "markdown",
   "id": "df82a135-477d-4b39-ab3e-df3694624130",
   "metadata": {},
   "source": [
    "A bug collector collects bugs every day for five days.\n",
    "Write a program that keeps a running total of the number of bugs collected during the five days.\n",
    "The loop should ask for the number of bugs collected for each day\n"
   ]
  },
  {
   "cell_type": "code",
   "execution_count": 18,
   "id": "c22ab135-b53f-4750-a964-3a480ab459b2",
   "metadata": {},
   "outputs": [
    {
     "name": "stdin",
     "output_type": "stream",
     "text": [
      "Enter the number of bugs collected on day 1:  23\n",
      "Enter the number of bugs collected on day 2:  13\n",
      "Enter the number of bugs collected on day 3:  11\n",
      "Enter the number of bugs collected on day 4:  18\n",
      "Enter the number of bugs collected on day 5:  21\n"
     ]
    },
    {
     "name": "stdout",
     "output_type": "stream",
     "text": [
      "Total number of bugs collected in five days: 86\n"
     ]
    }
   ],
   "source": [
    "# First we want to name the variable total bugs for our running total of the number of bugs collected:\n",
    "Total_bugs = 0\n",
    "# Next we want to specify that we want to run our loop for every 5 days:\n",
    "for day in range(1, 6):\n",
    "# Now we can ask the user the number of bugs collected on the specific days using the input function:   \n",
    "    Bugs_collected = int(input(\"Enter the number of bugs collected on day {}: \".format(day)))\n",
    "# Then we write the statement that assigns the value to the total+number to the total of number bugs collected:   \n",
    "    Total_bugs = Total_bugs+Bugs_collected\n",
    "# Lastly we can ask to display the output of number bugs collected in the five days:\n",
    "print(\"Total number of bugs collected in five days:\", Total_bugs)\n"
   ]
  },
  {
   "cell_type": "markdown",
   "id": "ce926971-6d5d-4b1b-84c2-2169287dc0e5",
   "metadata": {},
   "source": [
    "Programming Exercise #4"
   ]
  },
  {
   "cell_type": "markdown",
   "id": "f9913eae-e808-4d1e-9415-7946d0342e8c",
   "metadata": {},
   "source": [
    "The distance a vehicle travels can be calculated as follows: distance=speedxtime \n",
    "For example, if a train travels 40 miles per hour for three hours, the distance traveled is 120 miles.\n",
    "Write a program that asks the user for the speed of a vehicle (in miles per hour) and the number of hours it has traveled."
   ]
  },
  {
   "cell_type": "code",
   "execution_count": 25,
   "id": "d2b72544-f48b-406a-8ede-a3ba9cd113a1",
   "metadata": {},
   "outputs": [
    {
     "name": "stdin",
     "output_type": "stream",
     "text": [
      "Enter the speed of the vehicle (in MPH):  45\n",
      "Enter the number of hours the vehicle has traveled:  4\n"
     ]
    },
    {
     "name": "stdout",
     "output_type": "stream",
     "text": [
      "Hour\\Distance Traveled\n",
      "-------------------------\n",
      "1 45.0\n",
      "2 90.0\n",
      "3 135.0\n",
      "4 180.0\n"
     ]
    }
   ],
   "source": [
    "# First we want to ask the user the speed of the vehicle in MPH and the hours in which the vehicle has traveled using the input function: \n",
    "# We will want to use float for the speed because of the decimal but we can keep it simple for the hours and keep it to whole hours:\n",
    "speed = float(input(\"Enter the speed of the vehicle (in MPH): \"))\n",
    "hours = int(input(\"Enter the number of hours the vehicle has traveled: \"))\n",
    "# Next we can ask to print the hour and distance traveled:\n",
    "print(\"Hour\\Distance Traveled\")\n",
    "print(\"-------------------------\")\n",
    "# Next we can use the for clause to get the range we want:\n",
    "for hour in range(1, hours + 1):\n",
    "# Now we can write the formula and use the hour for the time:   \n",
    "    distance = speed * hour\n",
    "# We can ask it to display the hour and distance that the vehicle has traveled:    \n",
    "    print(hour, distance)\n"
   ]
  },
  {
   "cell_type": "markdown",
   "id": "bd4d2413-7547-48ed-bb78-68da7a73854d",
   "metadata": {},
   "source": [
    "Programming Exercise #12\n"
   ]
  },
  {
   "cell_type": "markdown",
   "id": "f28c3c1b-ca7a-4021-8e67-b144d9613aeb",
   "metadata": {},
   "source": [
    "Write a program that predicts the approximate size of a population of organisms. \n",
    "The application should prompt the user to enter the starting number of organisms, the average daily population increase (as a percentage), and the number of days the organisms will be left to multiply."
   ]
  },
  {
   "cell_type": "code",
   "execution_count": 33,
   "id": "1941dfa6-3387-4d6f-a4d6-3f9af0be4538",
   "metadata": {},
   "outputs": [
    {
     "name": "stdin",
     "output_type": "stream",
     "text": [
      "Enter the starting number of organisms:  44\n",
      "Enter the average daily population increase (as a percentage):  3\n",
      "Enter the number of days the organisms will be left to multiply:  6\n"
     ]
    },
    {
     "name": "stdout",
     "output_type": "stream",
     "text": [
      "\n",
      "Day\tApproximate_Population\n",
      "----------------\n",
      "1 \t 44\n",
      "2 \t 45.32\n",
      "3 \t 46.6796\n",
      "4 \t 48.079988\n",
      "5 \t 49.52238764\n",
      "6 \t 51.0080592692\n"
     ]
    }
   ],
   "source": [
    "# First we want to ask the user to enter the starting number of organisms using the input function:\n",
    "Start_Population = int(input(\"Enter the starting number of organisms: \"))\n",
    "# Next we can ask the user the average daily population increase as a percentage using the input function:\n",
    "Daily_Population_Increase = float(input(\"Enter the average daily population increase (as a percentage): \"))\n",
    "# Now we can also include the number of days the organism will be left to multiply using the input function:\n",
    "Days = int(input(\"Enter the number of days the organisms will be left to multiply: \"))\n",
    "# Now we can assign the population to the starting number the user inputed and continue with our program:\n",
    "Approximate_Population = Start_Population\n",
    "# Next we can ask to print the day with the approximate population\n",
    "print(\"\\nDay\\tApproximate_Population\")\n",
    "print(\"----------------\")\n",
    "# Lastly we can use the for clause to range the number of days:\n",
    "for day in range(1, Days + 1):\n",
    "# Then we will ask it to display our results in the table:   \n",
    "    print(day, \"\\t\", Approximate_Population)   \n",
    "    Approximate_Population *= (1 + Daily_Population_Increase / 100)\n"
   ]
  },
  {
   "cell_type": "markdown",
   "id": "b1f3d81b-883f-420a-80ee-282ffff69c1e",
   "metadata": {},
   "source": [
    "Programming Exercise #14"
   ]
  },
  {
   "cell_type": "markdown",
   "id": "bad427f4-2417-4a54-834d-a2b32aad001c",
   "metadata": {},
   "source": [
    "Write a program that uses nested loops to draw this pattern:"
   ]
  },
  {
   "cell_type": "code",
   "execution_count": 45,
   "id": "ab137b07-2e4b-4055-9728-1666c36dea9a",
   "metadata": {},
   "outputs": [
    {
     "name": "stdout",
     "output_type": "stream",
     "text": [
      "# #\n",
      "#   #\n",
      "#     #\n",
      "#       #\n",
      "#         #\n",
      "#           #\n"
     ]
    }
   ],
   "source": [
    "# First we will identify the range with the four clause respecting the patterned displayed in the figure:\n",
    "for i in range(6):\n",
    "# Next we will print the height of the row\n",
    "    print(\"#\", end=\" \")\n",
    "# Now we can use the for loop for the # character\n",
    "    for j in range(i):\n",
    "# We will want to print the spaces\n",
    "      print(\" \", end=\" \")\n",
    "    print(\"#\")"
   ]
  },
  {
   "cell_type": "code",
   "execution_count": null,
   "id": "d4c7d5d7-baa3-43bd-9e0f-59b8b722733b",
   "metadata": {},
   "outputs": [],
   "source": []
  }
 ],
 "metadata": {
  "kernelspec": {
   "display_name": "anaconda-2024.02-py310",
   "language": "python",
   "name": "conda-env-anaconda-2024.02-py310-py"
  },
  "language_info": {
   "codemirror_mode": {
    "name": "ipython",
    "version": 3
   },
   "file_extension": ".py",
   "mimetype": "text/x-python",
   "name": "python",
   "nbconvert_exporter": "python",
   "pygments_lexer": "ipython3",
   "version": "3.10.14"
  }
 },
 "nbformat": 4,
 "nbformat_minor": 5
}
