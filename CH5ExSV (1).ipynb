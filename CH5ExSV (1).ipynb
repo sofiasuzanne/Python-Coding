{
 "cells": [
  {
   "cell_type": "markdown",
   "id": "9d8ce63b-1e61-411f-8368-9bb55214c15a",
   "metadata": {},
   "source": [
    "Chapter 5 Exercises: "
   ]
  },
  {
   "cell_type": "markdown",
   "id": "a51f31c6-45cc-4938-baa7-1ec971316e76",
   "metadata": {},
   "source": [
    "Algorithm Workbench #1"
   ]
  },
  {
   "cell_type": "markdown",
   "id": "2c8d6c6f-9f61-4cfa-aab2-ce60f3dded61",
   "metadata": {},
   "source": [
    "Write a function named times_ten . The function should accept an argument and display the product of its argument multiplied times 10."
   ]
  },
  {
   "cell_type": "code",
   "execution_count": 96,
   "id": "68254586-2835-4d67-82c7-94a183b71eb8",
   "metadata": {},
   "outputs": [],
   "source": [
    "# First we want to define the function and name it times ten. Then we want to include the argument which is our number that we will be multiplying times ten.\n",
    "def times_ten(number):\n",
    "# Now we can name that the product will be what number we decide times ten.   \n",
    "    product = number * 10\n",
    "# Lastly we ask to display the product of our function:   \n",
    "    print(\"product\")\n",
    "# Not sure why my code isn't asking me for an input so I am going to review other people's work and add in where I went wrong.\n",
    "\n",
    "# So I found out where I went wrong I didn't execute what number I wanted."
   ]
  },
  {
   "cell_type": "code",
   "execution_count": 116,
   "id": "38f96b40-0d9a-4dc1-b403-5b998fe15b52",
   "metadata": {},
   "outputs": [
    {
     "name": "stdout",
     "output_type": "stream",
     "text": [
      "590\n"
     ]
    }
   ],
   "source": [
    "def times_ten(number):\n",
    "    product = number * 10\n",
    "    print(product)\n",
    "\n",
    "times_ten(59)"
   ]
  },
  {
   "cell_type": "markdown",
   "id": "bf51cc3d-e0d5-462f-89dc-55f2d6077c52",
   "metadata": {},
   "source": [
    "Algorithm Workbench #10"
   ]
  },
  {
   "cell_type": "markdown",
   "id": "60f530b8-2a16-4714-a80e-2277e6c355da",
   "metadata": {},
   "source": [
    "Write a function named get_first_name that asks the user to enter his or her first name, and returns it. "
   ]
  },
  {
   "cell_type": "code",
   "execution_count": 61,
   "id": "12157547-7354-449a-8531-c6f05c55094a",
   "metadata": {},
   "outputs": [],
   "source": [
    "# First we want define the function which is get first name, then we want ask the user enter in the first name then return it.\n",
    "def get_first_name():\n",
    "    first_name = input(\"Enter in your first name: \")\n",
    "    return first_name\n"
   ]
  },
  {
   "cell_type": "markdown",
   "id": "46553347-fa1b-471b-b1c4-a43ec4e2dcbe",
   "metadata": {},
   "source": [
    "Programming Exercise #1:"
   ]
  },
  {
   "cell_type": "markdown",
   "id": "618c790e-3b9b-455c-a2a4-3c6c8a7833dc",
   "metadata": {},
   "source": [
    "Write a program that asks the user to enter a distance in kilometers, then uses a function to convert that distance to miles"
   ]
  },
  {
   "cell_type": "code",
   "execution_count": 66,
   "id": "d96b6085-7278-4896-9e38-b9c453690dc7",
   "metadata": {},
   "outputs": [
    {
     "name": "stdin",
     "output_type": "stream",
     "text": [
      "Enter distance in kilometers:  32\n"
     ]
    },
    {
     "name": "stdout",
     "output_type": "stream",
     "text": [
      "32.0 is converted to 19.8848 miles.\n"
     ]
    }
   ],
   "source": [
    "# First we define the function covert miles from kilometers and have the kilometers be our argument then we will want to assign formula which was given to us and return it.\n",
    "def convert_miles(kilometers):\n",
    "    miles = kilometers * 0.6214\n",
    "    return miles\n",
    "# Then we will define the main function to ask the user which distance in kilometers it will want to convert to miles\n",
    "def main():\n",
    "    kilometers = float(input(\"Enter distance in kilometers: \"))\n",
    "    \n",
    "    # Now we can write assign miles to our conversion formula:\n",
    "    miles = convert_miles(kilometers)\n",
    "    \n",
    "    # Lastly we can display our message of conversion:\n",
    "    print(f\"{kilometers} is converted to {miles} miles.\")\n",
    "\n",
    "# Call the main function to execute the program\n",
    "if __name__ == \"__main__\":\n",
    "    main()\n"
   ]
  },
  {
   "cell_type": "markdown",
   "id": "dccd422f-8000-4240-9dfe-caa523122d96",
   "metadata": {},
   "source": [
    "Programming Exercise #16"
   ]
  },
  {
   "cell_type": "markdown",
   "id": "c4f380d9-1f29-492a-8421-15180c36e35a",
   "metadata": {},
   "source": [
    "Write a Boolean function named its_prime which takes an integer as an argument and returns true if the argument is a prime number, or false otherwise. Use the function in a program that prompts the user to enter a number then displays a message indicating whether the number is prime."
   ]
  },
  {
   "cell_type": "code",
   "execution_count": 75,
   "id": "d77de5b8-5d4c-441e-b2b2-b8c4c5de70a5",
   "metadata": {},
   "outputs": [
    {
     "name": "stdin",
     "output_type": "stream",
     "text": [
      "Enter a number:  7\n"
     ]
    },
    {
     "name": "stdout",
     "output_type": "stream",
     "text": [
      "7 is a prime number.\n"
     ]
    }
   ],
   "source": [
    "# First we want to define the function to its a prime to determine whether or not its going to be a prime number, we will say if the number is less than one return false because it is not a prime number.\n",
    "def is_prime(num):\n",
    "    \"\"\" Check if the number is a prime number \"\"\"\n",
    "    if num <= 1:\n",
    "        return False  \n",
    "    # The next thing we can do to see if a number is prime or not is if it is divided by a number also known as a divisor. If it's not it's a prime number \n",
    "    for i in range(2, int(num**0.5) + 1):\n",
    "        if num % i == 0:\n",
    "            return False  \n",
    "    return True  \n",
    "# Next we will define the main function and ask the user to enter in a number\n",
    "def main():\n",
    "    number = int(input(\"Enter a number: \"))\n",
    "    # Now we can return back to what we first coded to see if a number is a prime number or not and display it:\n",
    "    if is_prime(number):\n",
    "        print(f\"{number} is a prime number.\")\n",
    "    else:\n",
    "        print(f\"{number} is not a prime number.\")\n",
    "# Lastly we can call out the main function\n",
    "if __name__ == \"__main__\":\n",
    "    main()\n"
   ]
  },
  {
   "cell_type": "markdown",
   "id": "2d0430f4-327a-425f-a981-816622c5f043",
   "metadata": {},
   "source": [
    "Programming Exercise #17"
   ]
  },
  {
   "cell_type": "markdown",
   "id": "09c918f6-37ab-4682-ad79-673d267c95a3",
   "metadata": {},
   "source": [
    "This exercise assumes that you have already written the is_prime function in Programming Exercise 16. Write another program that displays all of the prime numbers from 1 to 100. The program should have a loop that calls the is_prime function."
   ]
  },
  {
   "cell_type": "code",
   "execution_count": 78,
   "id": "90188f84-0788-45d3-a7d9-3287679345f7",
   "metadata": {},
   "outputs": [
    {
     "name": "stdout",
     "output_type": "stream",
     "text": [
      "Prime numbers 1 to 100:\n",
      "2 3 5 7 11 13 17 19 23 29 31 37 41 43 47 53 59 61 67 71 73 79 83 89 97 \n"
     ]
    }
   ],
   "source": [
    "# We can start this code off like problem 16 since we have to loop determining whether a number is prime or not: \n",
    "def is_prime(num):\n",
    "    \"\"\" Check if the number is a prime number \"\"\"\n",
    "    if num <= 1:\n",
    "        return False  # Numbers less than or equal to 1 are not prime\n",
    "    \n",
    "\n",
    "    for i in range(2, int(num**0.5) + 1):\n",
    "        if num % i == 0:\n",
    "            return False  \n",
    "    return True  \n",
    "# Now we can define the range we want to display the prime numbers our function has found which is numbers 1 to 100. Then we will ask to display the numbers and when to stop for the given range.\n",
    "def display_primes():\n",
    "    \"\"\" Display all prime numbers 1 to 100 \"\"\"\n",
    "    print(\"Prime numbers 1 to 100:\")\n",
    "    for number in range(1, 101):\n",
    "        if is_prime(number):\n",
    "            print(number, end=\" \")\n",
    "    print() \n",
    "\n",
    "# Call the function to display all of the prime numbers found in 1 to 100.\n",
    "display_primes()\n"
   ]
  },
  {
   "cell_type": "markdown",
   "id": "75c9af01-77a7-4367-b51f-3c4a82de834b",
   "metadata": {},
   "source": [
    "Programming Exercise #19 "
   ]
  },
  {
   "cell_type": "markdown",
   "id": "1e41b4f5-8773-4b62-b6ee-a08e5210b67e",
   "metadata": {},
   "source": [
    "Write a program that generates a random number in the range of 1 through 100, and asks the user to guess what the number is. If the user’s guess is higher than the random number, the program should display “Too high, try again.” If the user’s guess is lower than the random number, the program should display “Too low, try again.”"
   ]
  },
  {
   "cell_type": "code",
   "execution_count": 92,
   "id": "5a98639e-e191-42d1-8d42-17458d3ee9c7",
   "metadata": {},
   "outputs": [
    {
     "name": "stdin",
     "output_type": "stream",
     "text": [
      "Guess a number: 32\n"
     ]
    },
    {
     "name": "stdout",
     "output_type": "stream",
     "text": [
      "Too high\n"
     ]
    },
    {
     "name": "stdin",
     "output_type": "stream",
     "text": [
      "Guess a number: 44\n"
     ]
    },
    {
     "name": "stdout",
     "output_type": "stream",
     "text": [
      "Too high\n"
     ]
    },
    {
     "name": "stdin",
     "output_type": "stream",
     "text": [
      "Guess a number: 23\n"
     ]
    },
    {
     "name": "stdout",
     "output_type": "stream",
     "text": [
      "Too high\n"
     ]
    },
    {
     "name": "stdin",
     "output_type": "stream",
     "text": [
      "Guess a number: 11\n"
     ]
    },
    {
     "name": "stdout",
     "output_type": "stream",
     "text": [
      "Too low\n"
     ]
    },
    {
     "name": "stdin",
     "output_type": "stream",
     "text": [
      "Guess a number: 15\n"
     ]
    },
    {
     "name": "stdout",
     "output_type": "stream",
     "text": [
      "Too low\n"
     ]
    },
    {
     "name": "stdin",
     "output_type": "stream",
     "text": [
      "Guess a number: 20\n"
     ]
    },
    {
     "name": "stdout",
     "output_type": "stream",
     "text": [
      "Too high\n"
     ]
    },
    {
     "name": "stdin",
     "output_type": "stream",
     "text": [
      "Guess a number: 18\n"
     ]
    },
    {
     "name": "stdout",
     "output_type": "stream",
     "text": [
      "You guessed the number!\n"
     ]
    }
   ],
   "source": [
    "# We will ask the user to guess the number in the range of 1 to 100, and display accordingly to what our number is. Either too high or too low.\n",
    "import random\n",
    "x_num= random.randint(1,100)\n",
    "for random in range(10):\n",
    "    random = int(input(\"Guess a number:\"))\n",
    "    if random < x_num:\n",
    "        print (\"Too low\")\n",
    "        continue\n",
    "    elif random > x_num:\n",
    "        print(\"Too high\")\n",
    "        continue\n",
    "    elif random == x_num:\n",
    "        print(\"You guessed the number!\")\n",
    "        break"
   ]
  },
  {
   "cell_type": "code",
   "execution_count": null,
   "id": "bf610ece-9857-4d4f-9637-caa3e3b57615",
   "metadata": {},
   "outputs": [],
   "source": []
  }
 ],
 "metadata": {
  "kernelspec": {
   "display_name": "anaconda-panel-2023.05-py310",
   "language": "python",
   "name": "conda-env-anaconda-panel-2023.05-py310-py"
  },
  "language_info": {
   "codemirror_mode": {
    "name": "ipython",
    "version": 3
   },
   "file_extension": ".py",
   "mimetype": "text/x-python",
   "name": "python",
   "nbconvert_exporter": "python",
   "pygments_lexer": "ipython3",
   "version": "3.11.5"
  }
 },
 "nbformat": 4,
 "nbformat_minor": 5
}
