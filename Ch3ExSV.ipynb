{
 "cells": [
  {
   "cell_type": "markdown",
   "id": "4fc250b0-71c4-4b28-be94-35d4bb8ac73a",
   "metadata": {},
   "source": [
    "Chapter 3 Exercises: "
   ]
  },
  {
   "cell_type": "markdown",
   "id": "1e6a07f3-6304-453b-baae-6dd57c3ae75d",
   "metadata": {},
   "source": [
    "Algorithm Workbench #4"
   ]
  },
  {
   "cell_type": "markdown",
   "id": "b5e0878d-6444-4ef4-a1f4-596e8dd13183",
   "metadata": {},
   "source": [
    "Rewrite if-else statements with proper alignment and indentations: "
   ]
  },
  {
   "cell_type": "code",
   "execution_count": 81,
   "id": "cbd18b97-8e83-4c65-9748-7ae3e1de55e5",
   "metadata": {},
   "outputs": [
    {
     "ename": "SyntaxError",
     "evalue": "invalid syntax (3069107038.py, line 6)",
     "output_type": "error",
     "traceback": [
      "\u001b[0;36m  Cell \u001b[0;32mIn[81], line 6\u001b[0;36m\u001b[0m\n\u001b[0;31m    elif score >= B_score:\u001b[0m\n\u001b[0m    ^\u001b[0m\n\u001b[0;31mSyntaxError\u001b[0m\u001b[0;31m:\u001b[0m invalid syntax\n"
     ]
    }
   ],
   "source": [
    "# First we ask the user their score:\n",
    "_score= int(input('Enter in score'))\n",
    "# Now we can correct the statements to satisfy the format:\n",
    "if score >= A_score: \n",
    "    print('Your grade is A.') \n",
    "    elif score >= B_score: \n",
    "        print('Your grade is B.') \n",
    "    elif score >= C_score: \n",
    "            print('Your grade is C.') \n",
    "    elif score >= D_score: \n",
    "                print('Your grade is D.') \n",
    "    else: \n",
    "                print('Your grade is F.')\n"
   ]
  },
  {
   "cell_type": "markdown",
   "id": "16656d19-3f9a-4041-b307-26b36042bc24",
   "metadata": {},
   "source": [
    "Algorithm Workbench #5"
   ]
  },
  {
   "cell_type": "markdown",
   "id": "6db8f699-bfc4-4050-9091-6adbcc40bd0c",
   "metadata": {},
   "source": [
    "Write nested decision structures: "
   ]
  },
  {
   "cell_type": "code",
   "execution_count": 54,
   "id": "0ea4a174-ba09-48b2-a14b-a7c15829eaba",
   "metadata": {},
   "outputs": [
    {
     "name": "stdin",
     "output_type": "stream",
     "text": [
      "Enter amount1: 8\n",
      "Enter amount2: 8\n"
     ]
    }
   ],
   "source": [
    "# First we assign the variable amounts to a value:\n",
    "amount1= float(input('Enter amount1:'))\n",
    "amount2= float(input('Enter amount2:'))\n",
    "                     \n",
    "if amount1 >10 and amount2 < 100:\n",
    "    if amount1 > amount2:\n",
    "        print('amount1')\n",
    "    elif amount2 > amount1:\n",
    "        print('amount2')\n",
    "    else:\n",
    "        print('Values are the same')"
   ]
  },
  {
   "cell_type": "markdown",
   "id": "c83311cb-a045-4f0a-a1aa-5cbd6dd53681",
   "metadata": {},
   "source": [
    "Programming Exercise #1\n",
    "Write a program that asks the user for a number in the range of 1 through 7:"
   ]
  },
  {
   "cell_type": "code",
   "execution_count": 66,
   "id": "f52d0282-6c57-472b-9936-37076528e2e4",
   "metadata": {},
   "outputs": [
    {
     "name": "stdin",
     "output_type": "stream",
     "text": [
      "Enter a number in the range of 1 through 7:  3\n"
     ]
    },
    {
     "name": "stdout",
     "output_type": "stream",
     "text": [
      "Wednesday\n"
     ]
    }
   ],
   "source": [
    "# First we can assign the variable to a value: \n",
    "Day_number = int(input(\"Enter a number in the range of 1 through 7: \"))\n",
    "# Check if the number is going to be in the given range\n",
    "if 1 <= Day_number <= 7:\n",
    "# Now the program will run through these set of statements to determine what number connects with the day.\n",
    "    if Day_number == 1:\n",
    "        print(\"Monday\")\n",
    "    elif Day_number == 2:\n",
    "        print(\"Tuesday\")\n",
    "    elif Day_number == 3:\n",
    "        print(\"Wednesday\")\n",
    "    elif Day_number == 4:\n",
    "        print(\"Thursday\")\n",
    "    elif Day_number == 5:\n",
    "        print(\"Friday\")\n",
    "    elif Day_number == 6:\n",
    "        print(\"Saturday\")\n",
    "    else:\n",
    "        print(\"Sunday\")\n",
    "else:\n",
    "    print(\"Error: Please enter a number in the range of 1 through 7.\")\n",
    "# We write the last statement ensuring that we will display the error if not within the given range"
   ]
  },
  {
   "cell_type": "markdown",
   "id": "93f71c1e-14f5-4e91-8fbb-66301fc8edc1",
   "metadata": {},
   "source": [
    "Programming Exercise #5\n",
    "Write a program that asks the user to enter an object’s mass, then calculates its weight."
   ]
  },
  {
   "cell_type": "code",
   "execution_count": 71,
   "id": "dae20551-90d2-4ae0-b929-570c464cb27d",
   "metadata": {},
   "outputs": [
    {
     "name": "stdin",
     "output_type": "stream",
     "text": [
      "Enter objects mass in kilograms: 98\n"
     ]
    },
    {
     "name": "stdout",
     "output_type": "stream",
     "text": [
      "Object is too light\n"
     ]
    }
   ],
   "source": [
    "# First we define the first value to our formula:\n",
    "newtons_kilogram=9.8 \n",
    "# We can input a value for the objects mass in kilograms:\n",
    "mass_kilograms = float(input('Enter objects mass in kilograms:'))\n",
    "# Now we can write the formula to our assigned values:\n",
    "weight_in_newtons = mass_kilograms * newtons_kilogram\n",
    "# Now we can determine how much the object weighs and display the correct message:\n",
    "if weight_in_newtons < 500:\n",
    "    print('Object is too heavy')\n",
    "elif weight_in_newtons > 100:\n",
    "    print('Object is too light')\n",
    "else:\n",
    "    print('The objects weight is:', weight_in_newtons, \"newtons\")"
   ]
  },
  {
   "cell_type": "markdown",
   "id": "7d09df4a-9d89-4148-b293-2c0600926065",
   "metadata": {},
   "source": [
    "Programming Exercise #15\n",
    "The month of February normally has 28 days. But if it is a leap year, February has 29 days. Write a program that asks the user to enter a year."
   ]
  },
  {
   "cell_type": "code",
   "execution_count": 76,
   "id": "12e2a48c-cfa4-4f7e-99a9-180b32ee5180",
   "metadata": {},
   "outputs": [
    {
     "name": "stdin",
     "output_type": "stream",
     "text": [
      "Enter a year: 2005\n"
     ]
    },
    {
     "name": "stdout",
     "output_type": "stream",
     "text": [
      "Feburary has 28 days\n"
     ]
    }
   ],
   "source": [
    "# First we ask the user to enter a year:\n",
    "Year = int(input('Enter a year:'))\n",
    "# Now with the value assigned to the variable, a year entered, we can write a program to calculate whether or not it's a leap year:\n",
    "if (Year%100 == 0 and Year%400 == 0) or (Year%100 != 0 and Year%4 == 0): \n",
    "    print('Feburary has 29 days')\n",
    "# If it's going to be a leap year it will pass that statement if not we write the else statement:\n",
    "else:\n",
    "    print('Feburary has 28 days') "
   ]
  },
  {
   "cell_type": "markdown",
   "id": "b6ecb26b-7d68-48b6-8be3-b0a3f6d7cb67",
   "metadata": {},
   "source": [
    "Programming Exercise #16\n",
    "Use the flowchart to create a program that leads a person through the steps of fixing a bad Wi-Fi connection."
   ]
  },
  {
   "cell_type": "code",
   "execution_count": 104,
   "id": "88b58e41-b8c2-4181-911e-27983c9fe803",
   "metadata": {},
   "outputs": [
    {
     "name": "stdout",
     "output_type": "stream",
     "text": [
      "Reboot the computer and try to connect\n"
     ]
    },
    {
     "name": "stdin",
     "output_type": "stream",
     "text": [
      "Did that fix the problem? (yes/no) no\n"
     ]
    },
    {
     "name": "stdout",
     "output_type": "stream",
     "text": [
      "Reboot the router and try to connect\n"
     ]
    },
    {
     "name": "stdin",
     "output_type": "stream",
     "text": [
      "Did that fix the problem? (yes/no) no\n"
     ]
    },
    {
     "name": "stdout",
     "output_type": "stream",
     "text": [
      "Make sure the cables between the router and modem are firmly plugged in\n"
     ]
    }
   ],
   "source": [
    "print('Reboot the computer and try to connect')\n",
    "# Next we can write asking if that fixed the problem with a yes or no response:\n",
    "user_answer=input('Did that fix the problem? (yes/no)')\n",
    "# Now we can continue the program with the response\n",
    "if user_answer == \"no\": \n",
    "    print('Reboot the router and try to connect') \n",
    "# Now we go back to the answer and input to move onto the next possible solution\n",
    "    answer= input('Did that fix the problem? (yes/no)')\n",
    "    if user_answer == \"no\":\n",
    "        print('Make sure the cables between the router and modem are firmly plugged in')\n",
    "    if user_answer == \"yes\":\n",
    "                print('Great, enjoy the wifi')"
   ]
  },
  {
   "cell_type": "code",
   "execution_count": null,
   "id": "22d71d39-3e0f-4b6e-a1da-e47391c5b1e1",
   "metadata": {},
   "outputs": [],
   "source": []
  }
 ],
 "metadata": {
  "kernelspec": {
   "display_name": "anaconda-2024.02-py310",
   "language": "python",
   "name": "conda-env-anaconda-2024.02-py310-py"
  },
  "language_info": {
   "codemirror_mode": {
    "name": "ipython",
    "version": 3
   },
   "file_extension": ".py",
   "mimetype": "text/x-python",
   "name": "python",
   "nbconvert_exporter": "python",
   "pygments_lexer": "ipython3",
   "version": "3.10.14"
  }
 },
 "nbformat": 4,
 "nbformat_minor": 5
}
