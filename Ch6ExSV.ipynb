{
 "cells": [
  {
   "cell_type": "markdown",
   "id": "ca0e91e1-5d78-43e0-a1bf-8142e6b06937",
   "metadata": {},
   "source": [
    "Chapter 6 Exercises: "
   ]
  },
  {
   "cell_type": "markdown",
   "id": "43318aca-c513-4e8f-8779-5bab6edfd87d",
   "metadata": {},
   "source": [
    "Algorithm Workbench #1"
   ]
  },
  {
   "cell_type": "markdown",
   "id": "b926b47c-9cac-4566-8227-9b7677028d98",
   "metadata": {},
   "source": [
    "Write a program that opens an output file with the filename my_name.txt, writes your name to the file, then closes the file.   "
   ]
  },
  {
   "cell_type": "code",
   "execution_count": 14,
   "id": "05f6010f-fde0-4b5e-8555-37adbacae701",
   "metadata": {},
   "outputs": [
    {
     "name": "stdout",
     "output_type": "stream",
     "text": [
      "Successfully wrote your name to my_name.txt\n"
     ]
    }
   ],
   "source": [
    "# First we will define the main function then we will specify the name of the file:\n",
    "def main():\n",
    "    filename = \"my_name.txt\"\n",
    "# Next we will use the with statement and the w as the mode to open the file for writing:    \n",
    "    with open(filename, 'w') as f:\n",
    "# Now we can ask to write your name to the file:       \n",
    "        f.write(\"Your name\")    \n",
    "        print(f\"Successfully wrote your name to {filename}\")\n",
    "# Lastly we can call out to the main function:   \n",
    "if __name__ == \"__main__\":\n",
    "    main()\n"
   ]
  },
  {
   "cell_type": "markdown",
   "id": "0b172928-269e-4d59-b8de-6491173ca54e",
   "metadata": {},
   "source": [
    "Algorithm Workbench #3"
   ]
  },
  {
   "cell_type": "markdown",
   "id": "7f15c4d8-a671-477d-b8da-b91ab976a144",
   "metadata": {},
   "source": [
    "Write code that does the following: opens an output file with the filename number_list.txt , uses a loop to write the numbers 1 through 100 to the file, then closes the file. "
   ]
  },
  {
   "cell_type": "code",
   "execution_count": 12,
   "id": "89f221a8-4eb7-4430-bd3c-fcffc057fb28",
   "metadata": {},
   "outputs": [
    {
     "name": "stdout",
     "output_type": "stream",
     "text": [
      "Successfully wrote numbers 1 to 100 to number_list.txt\n"
     ]
    }
   ],
   "source": [
    "# First we will define the main function and we will name the file according to our problem:\n",
    "def main():\n",
    "    filename = \"number_list.txt\"\n",
    "# Next we will open the file with the w for writing for the mode:    \n",
    "    with open(filename, 'w') as f:\n",
    "# We will ask it to write numbers 1 through 100 to the file:\n",
    "        for num in range(1, 101):\n",
    "            f.write(f\"{num}\\n\")\n",
    "# Now we can ask it to print: \n",
    "    print(f\"Successfully wrote numbers 1 to 100 to {filename}\")\n",
    "# Lastly we will call to the main function:\n",
    "if __name__ == \"__main__\":\n",
    "    main()\n",
    "\n"
   ]
  },
  {
   "cell_type": "markdown",
   "id": "5e3eee32-9518-47bf-8525-1d9d4723f832",
   "metadata": {},
   "source": [
    "Programming Exercises #1"
   ]
  },
  {
   "cell_type": "markdown",
   "id": "c092e862-ae15-49ab-b049-d450c20155a3",
   "metadata": {},
   "source": [
    "Assume a file containing a series of integers is named number.txt and exists on the computer’s disk. Write a program that displays all of the numbers in the file."
   ]
  },
  {
   "cell_type": "code",
   "execution_count": null,
   "id": "e3364aa9-0a94-4de9-90cf-6024eabaeb29",
   "metadata": {},
   "outputs": [],
   "source": [
    "# First we will define the main function and specify the name for the file according to our problem:\n",
    "def main():\n",
    "    filename = \"numbers.txt\"\n",
    "    try:\n",
    "# Now we will open the file using r to read the file\n",
    "        with open(filename, 'r') as f:\n",
    "            # Read all lines from the file\n",
    "            lines = f.readlines()\n",
    "# I had to use chat gpt for the rest of the code, I was confused on what to write for the rest of the code and how to write the except clause: \n",
    "            for line in lines:\n",
    "                # Remove any extra whitespace (like newlines) and print the number\n",
    "                print(line.strip())\n",
    "    \n",
    "    except FileNotFoundError:\n",
    "        print(f\"Error: The file '{filename}' was not found.\")\n",
    "# Lastly we call the main function:\n",
    "if __name__ == \"__main__\":\n",
    "    main()\n"
   ]
  },
  {
   "cell_type": "markdown",
   "id": "3614d031-f001-4fb5-b4d7-78b6e77845cb",
   "metadata": {},
   "source": [
    "Programming Exercise #6"
   ]
  },
  {
   "cell_type": "markdown",
   "id": "1c4f6401-3302-4164-940a-82fb60b308fd",
   "metadata": {},
   "source": [
    "Assume a file containing a series of integers is named numbers.txt  and exists on the computer’s disk. Write a program that calculates the average of all the numbers stored in the file."
   ]
  },
  {
   "cell_type": "code",
   "execution_count": 19,
   "id": "9119f9f3-84d3-4509-8c84-8bde8c288486",
   "metadata": {},
   "outputs": [
    {
     "name": "stdout",
     "output_type": "stream",
     "text": [
      "Error: The file 'numbers.txt' was not found.\n"
     ]
    }
   ],
   "source": [
    "# First we will define the main function and name the file:\n",
    "def main():\n",
    "    filename = \"numbers.txt\"\n",
    "    \n",
    "    try:\n",
    "# Next we will open the file with r for reading:\n",
    "        with open(filename, 'r') as f:\n",
    "            # Read all lines from the file\n",
    "            lines = f.readlines()\n",
    "            total_sum = 0\n",
    "            count = 0\n",
    "# Now we can run through the code for the integers using numbers and count: also using the try/except clauses:\n",
    "            for line in lines:\n",
    "                try:\n",
    "# We want the numbers to turn into lines:\n",
    "                    num = int(line.strip())\n",
    "                    total_sum += num\n",
    "                    count += 1\n",
    "                except ValueError:\n",
    "                    print(f\"Alert another character was found '{line.strip()}'\")\n",
    "            \n",
    "# Now we will take into account finding the average of all the numbers, I had to use chat gpt for this part to help me remember how to find average and for the if statement:\n",
    "            if count > 0:\n",
    "                average = total_sum / count\n",
    "                print(f\"Average of numbers in '{filename}': {average}\")\n",
    "            else:\n",
    "                print(f\"No valid numbers found in '{filename}'\")\n",
    "    \n",
    "    except FileNotFoundError:\n",
    "        print(f\"Error: The file '{filename}' was not found.\")\n",
    "# Lastly we call to the main function:\n",
    "if __name__ == \"__main__\":\n",
    "    main()\n"
   ]
  },
  {
   "cell_type": "markdown",
   "id": "ea34dc24-2e65-4f65-bbdf-d18b906f0176",
   "metadata": {},
   "source": [
    "Programming Exercise #9 "
   ]
  },
  {
   "cell_type": "markdown",
   "id": "a6808cda-c18d-41a4-9756-93095250ca70",
   "metadata": {},
   "source": [
    "Modify the program that you wrote for Exercise 6 so it handles the following exceptions:  It should handle any IO Error exceptions that are raised when the file is opened and data is read from it.It should handle any Value Error exceptions that are raised when the items that are read from the file are converted to a number."
   ]
  },
  {
   "cell_type": "code",
   "execution_count": 23,
   "id": "7e0d98c4-7568-4fe3-a108-847b78a7652e",
   "metadata": {},
   "outputs": [
    {
     "name": "stdout",
     "output_type": "stream",
     "text": [
      "Error: The file 'numbers.txt' was not found.\n"
     ]
    }
   ],
   "source": [
    "# First we define the main function and name the file:\n",
    "def main():\n",
    "    filename = \"numbers.txt\"   \n",
    "    try:\n",
    "# Now we can open the file with r for reading:\n",
    "        with open(filename, 'r') as f:\n",
    "            total_sum = 0\n",
    "            count = 0\n",
    "# We continue the code as before:\n",
    "            for line in f:\n",
    "                try:\n",
    "                    num = int(line.strip())\n",
    "                    total_sum += num\n",
    "                    count += 1\n",
    "# Now we can handle the value error:                    \n",
    "                except ValueError as e:\n",
    "                    # Handle cases where the line is not a valid integer\n",
    "                    print(f\"Alert another character was found '{line.strip()}': {e}\")\n",
    "            \n",
    "# We will calculate our average of all the numbers like in our previous code:\n",
    "            if count > 0:\n",
    "                average = total_sum / count\n",
    "                print(f\"Average of numbers in '{filename}': {average}\")\n",
    "            else:\n",
    "                print(f\"No valid numbers found in '{filename}'\")\n",
    "# Now we can use except clauses of files not being found or IO errors:    \n",
    "    except FileNotFoundError:\n",
    "        print(f\"Error: The file '{filename}' was not found.\")\n",
    "    \n",
    "    except IOError as e:\n",
    "        print(f\"Error: IOError occurred while trying to read '{filename}': {e}\")\n",
    "# Lastly we call to the main function:\n",
    "if __name__ == \"__main__\":\n",
    "    main()\n"
   ]
  },
  {
   "cell_type": "markdown",
   "id": "d2e1c558-568b-4524-a55a-fc31cb3f1b31",
   "metadata": {},
   "source": [
    "Programming Exercise #10"
   ]
  },
  {
   "cell_type": "markdown",
   "id": "7cb5d5d8-41d8-4c8a-9eed-d36fa23bb7be",
   "metadata": {},
   "source": [
    "The Springfork Amateur Golf Club has a tournament every weekend. The club president has asked you to write two programs:  A program that will read each player’s name and golf score as keyboard input, then save these as records in a file named golf.txt . (Each record will have a field for the player’s name and a field for the player’s score.)A program that reads the records from the golf.txt file and displays them."
   ]
  },
  {
   "cell_type": "code",
   "execution_count": null,
   "id": "9ba0d560-7f13-43d1-8341-6c81f7f60e61",
   "metadata": {},
   "outputs": [],
   "source": []
  }
 ],
 "metadata": {
  "kernelspec": {
   "display_name": "anaconda-2024.02-py310",
   "language": "python",
   "name": "conda-env-anaconda-2024.02-py310-py"
  },
  "language_info": {
   "codemirror_mode": {
    "name": "ipython",
    "version": 3
   },
   "file_extension": ".py",
   "mimetype": "text/x-python",
   "name": "python",
   "nbconvert_exporter": "python",
   "pygments_lexer": "ipython3",
   "version": "3.10.14"
  }
 },
 "nbformat": 4,
 "nbformat_minor": 5
}
