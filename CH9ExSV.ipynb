{
 "cells": [
  {
   "cell_type": "markdown",
   "id": "39c399d6-6bf2-45fb-b9ef-4e5ddf43c8b5",
   "metadata": {},
   "source": [
    "Chapter 8 Exercises:"
   ]
  },
  {
   "cell_type": "markdown",
   "id": "9a0f45c3-dc38-462f-85e7-fd4d1f728fa8",
   "metadata": {},
   "source": [
    "Programming Exercise #2"
   ]
  },
  {
   "cell_type": "markdown",
   "id": "be97e060-c19b-4ebc-8d98-bee153f8034a",
   "metadata": {},
   "source": [
    "Write a program that creates a dictionary containing the U.S. states as keys, and their capitals as values. (Use the Internet to get a list of the states and their capitals.) The program should then randomly quiz the user by displaying the name of a state and asking the user to enter that state’s capital. The program should keep a count of the number of correct and incorrect responses. (As an alternative to the U.S. states, the program can use the names of countries and their capitals.)"
   ]
  },
  {
   "cell_type": "code",
   "execution_count": 1,
   "id": "c1de1ceb-1cf8-43c3-96d8-54597ea89c60",
   "metadata": {},
   "outputs": [
    {
     "name": "stdout",
     "output_type": "stream",
     "text": [
      "Enter a capital for a displayed state : Wyoming\n"
     ]
    },
    {
     "name": "stdin",
     "output_type": "stream",
     "text": [
      "Enter a capital:  Cheyenne\n"
     ]
    },
    {
     "name": "stdout",
     "output_type": "stream",
     "text": [
      "Right!\n",
      "Enter a capital for a displayed state : Wisconsin\n"
     ]
    },
    {
     "name": "stdin",
     "output_type": "stream",
     "text": [
      "Enter a capital:  madison\n"
     ]
    },
    {
     "name": "stdout",
     "output_type": "stream",
     "text": [
      "Enter a capital for a displayed state : West Virginia\n"
     ]
    },
    {
     "name": "stdin",
     "output_type": "stream",
     "text": [
      "Enter a capital:  richmond\n"
     ]
    },
    {
     "name": "stdout",
     "output_type": "stream",
     "text": [
      "Enter a capital for a displayed state : Washington\n"
     ]
    },
    {
     "name": "stdin",
     "output_type": "stream",
     "text": [
      "Enter a capital:  olympia\n"
     ]
    },
    {
     "name": "stdout",
     "output_type": "stream",
     "text": [
      "Enter a capital for a displayed state : Virginia\n"
     ]
    },
    {
     "name": "stdin",
     "output_type": "stream",
     "text": [
      "Enter a capital:  charleston\n"
     ]
    },
    {
     "name": "stdout",
     "output_type": "stream",
     "text": [
      "Enter a capital for a displayed state : Vermont\n"
     ]
    },
    {
     "name": "stdin",
     "output_type": "stream",
     "text": [
      "Enter a capital:  idk\n"
     ]
    },
    {
     "name": "stdout",
     "output_type": "stream",
     "text": [
      "Enter a capital for a displayed state : Utah\n"
     ]
    },
    {
     "name": "stdin",
     "output_type": "stream",
     "text": [
      "Enter a capital:  salt lake city\n"
     ]
    },
    {
     "name": "stdout",
     "output_type": "stream",
     "text": [
      "Enter a capital for a displayed state : Texas\n"
     ]
    },
    {
     "name": "stdin",
     "output_type": "stream",
     "text": [
      "Enter a capital:  austin\n"
     ]
    },
    {
     "name": "stdout",
     "output_type": "stream",
     "text": [
      "Enter a capital for a displayed state : Tennessee\n"
     ]
    },
    {
     "name": "stdin",
     "output_type": "stream",
     "text": [
      "Enter a capital:  nashville\n"
     ]
    },
    {
     "name": "stdout",
     "output_type": "stream",
     "text": [
      "Enter a capital for a displayed state : South Dakota\n"
     ]
    },
    {
     "name": "stdin",
     "output_type": "stream",
     "text": [
      "Enter a capital:  idk\n"
     ]
    },
    {
     "name": "stdout",
     "output_type": "stream",
     "text": [
      "Enter a capital for a displayed state : South Carolina\n"
     ]
    },
    {
     "name": "stdin",
     "output_type": "stream",
     "text": [
      "Enter a capital:  columbia\n"
     ]
    },
    {
     "name": "stdout",
     "output_type": "stream",
     "text": [
      "Enter a capital for a displayed state : Rhode Island\n"
     ]
    },
    {
     "name": "stdin",
     "output_type": "stream",
     "text": [
      "Enter a capital:  idk\n"
     ]
    },
    {
     "name": "stdout",
     "output_type": "stream",
     "text": [
      "Enter a capital for a displayed state : Pennsylvania\n"
     ]
    },
    {
     "name": "stdin",
     "output_type": "stream",
     "text": [
      "Enter a capital:  harrisburg\n"
     ]
    },
    {
     "name": "stdout",
     "output_type": "stream",
     "text": [
      "Enter a capital for a displayed state : Oregon\n"
     ]
    },
    {
     "name": "stdin",
     "output_type": "stream",
     "text": [
      "Enter a capital:  salem\n"
     ]
    },
    {
     "name": "stdout",
     "output_type": "stream",
     "text": [
      "Enter a capital for a displayed state : Oklahoma\n"
     ]
    },
    {
     "name": "stdin",
     "output_type": "stream",
     "text": [
      "Enter a capital:  kansas city\n"
     ]
    },
    {
     "name": "stdout",
     "output_type": "stream",
     "text": [
      "Enter a capital for a displayed state : Ohio\n"
     ]
    },
    {
     "name": "stdin",
     "output_type": "stream",
     "text": [
      "Enter a capital:  columbus\n"
     ]
    },
    {
     "name": "stdout",
     "output_type": "stream",
     "text": [
      "Enter a capital for a displayed state : North Dakota\n"
     ]
    },
    {
     "name": "stdin",
     "output_type": "stream",
     "text": [
      "Enter a capital:  bismark\n"
     ]
    },
    {
     "name": "stdout",
     "output_type": "stream",
     "text": [
      "Enter a capital for a displayed state : North Carolina\n"
     ]
    },
    {
     "name": "stdin",
     "output_type": "stream",
     "text": [
      "Enter a capital:  raleigh\n"
     ]
    },
    {
     "name": "stdout",
     "output_type": "stream",
     "text": [
      "Enter a capital for a displayed state : New York\n"
     ]
    },
    {
     "name": "stdin",
     "output_type": "stream",
     "text": [
      "Enter a capital:  albany\n"
     ]
    },
    {
     "name": "stdout",
     "output_type": "stream",
     "text": [
      "Enter a capital for a displayed state : New Mexico\n"
     ]
    },
    {
     "name": "stdin",
     "output_type": "stream",
     "text": [
      "Enter a capital:  idk\n"
     ]
    },
    {
     "name": "stdout",
     "output_type": "stream",
     "text": [
      "Enter a capital for a displayed state : New Jersey\n"
     ]
    },
    {
     "name": "stdin",
     "output_type": "stream",
     "text": [
      "Enter a capital:  trenton\n"
     ]
    },
    {
     "name": "stdout",
     "output_type": "stream",
     "text": [
      "Enter a capital for a displayed state : New Hampshire\n"
     ]
    },
    {
     "name": "stdin",
     "output_type": "stream",
     "text": [
      "Enter a capital:  idk\n"
     ]
    },
    {
     "name": "stdout",
     "output_type": "stream",
     "text": [
      "Enter a capital for a displayed state : Nevada\n"
     ]
    },
    {
     "name": "stdin",
     "output_type": "stream",
     "text": [
      "Enter a capital:  carson city\n"
     ]
    },
    {
     "name": "stdout",
     "output_type": "stream",
     "text": [
      "Enter a capital for a displayed state : Nebraska\n"
     ]
    },
    {
     "name": "stdin",
     "output_type": "stream",
     "text": [
      "Enter a capital:  idk\n"
     ]
    },
    {
     "name": "stdout",
     "output_type": "stream",
     "text": [
      "Enter a capital for a displayed state : Montana\n"
     ]
    },
    {
     "name": "stdin",
     "output_type": "stream",
     "text": [
      "Enter a capital:  idk\n"
     ]
    },
    {
     "name": "stdout",
     "output_type": "stream",
     "text": [
      "Enter a capital for a displayed state : Missouri\n"
     ]
    },
    {
     "name": "stdin",
     "output_type": "stream",
     "text": [
      "Enter a capital:  idk\n"
     ]
    },
    {
     "name": "stdout",
     "output_type": "stream",
     "text": [
      "Enter a capital for a displayed state : Mississippi\n"
     ]
    },
    {
     "name": "stdin",
     "output_type": "stream",
     "text": [
      "Enter a capital:  lansing\n"
     ]
    },
    {
     "name": "stdout",
     "output_type": "stream",
     "text": [
      "Enter a capital for a displayed state : Minnesota\n"
     ]
    },
    {
     "name": "stdin",
     "output_type": "stream",
     "text": [
      "Enter a capital:  jefferson city\n"
     ]
    },
    {
     "name": "stdout",
     "output_type": "stream",
     "text": [
      "Enter a capital for a displayed state : Michigan\n"
     ]
    },
    {
     "name": "stdin",
     "output_type": "stream",
     "text": [
      "Enter a capital:  lansing\n"
     ]
    },
    {
     "name": "stdout",
     "output_type": "stream",
     "text": [
      "Enter a capital for a displayed state : Massachusetts\n"
     ]
    },
    {
     "name": "stdin",
     "output_type": "stream",
     "text": [
      "Enter a capital:  boston\n"
     ]
    },
    {
     "name": "stdout",
     "output_type": "stream",
     "text": [
      "Enter a capital for a displayed state : Maryland\n"
     ]
    },
    {
     "name": "stdin",
     "output_type": "stream",
     "text": [
      "Enter a capital:  annapolis\n"
     ]
    },
    {
     "name": "stdout",
     "output_type": "stream",
     "text": [
      "Enter a capital for a displayed state : Maine\n"
     ]
    },
    {
     "name": "stdin",
     "output_type": "stream",
     "text": [
      "Enter a capital:  idk\n"
     ]
    },
    {
     "name": "stdout",
     "output_type": "stream",
     "text": [
      "Enter a capital for a displayed state : Louisiana\n"
     ]
    },
    {
     "name": "stdin",
     "output_type": "stream",
     "text": [
      "Enter a capital:  not sure\n"
     ]
    },
    {
     "name": "stdout",
     "output_type": "stream",
     "text": [
      "Enter a capital for a displayed state : Kentucky\n"
     ]
    },
    {
     "name": "stdin",
     "output_type": "stream",
     "text": [
      "Enter a capital:  frankfort\n"
     ]
    },
    {
     "name": "stdout",
     "output_type": "stream",
     "text": [
      "Enter a capital for a displayed state : Kansas\n"
     ]
    },
    {
     "name": "stdin",
     "output_type": "stream",
     "text": [
      "Enter a capital:  topeka\n"
     ]
    },
    {
     "name": "stdout",
     "output_type": "stream",
     "text": [
      "Enter a capital for a displayed state : Iowa\n"
     ]
    },
    {
     "name": "stdin",
     "output_type": "stream",
     "text": [
      "Enter a capital:  not sure\n"
     ]
    },
    {
     "name": "stdout",
     "output_type": "stream",
     "text": [
      "Enter a capital for a displayed state : Indiana\n"
     ]
    },
    {
     "name": "stdin",
     "output_type": "stream",
     "text": [
      "Enter a capital:  indianapolis\n"
     ]
    },
    {
     "name": "stdout",
     "output_type": "stream",
     "text": [
      "Enter a capital for a displayed state : Illinois\n"
     ]
    },
    {
     "name": "stdin",
     "output_type": "stream",
     "text": [
      "Enter a capital:  chicago\n"
     ]
    },
    {
     "name": "stdout",
     "output_type": "stream",
     "text": [
      "Enter a capital for a displayed state : Idaho\n"
     ]
    },
    {
     "name": "stdin",
     "output_type": "stream",
     "text": [
      "Enter a capital:  boise\n"
     ]
    },
    {
     "name": "stdout",
     "output_type": "stream",
     "text": [
      "Enter a capital for a displayed state : Hawaii\n"
     ]
    },
    {
     "name": "stdin",
     "output_type": "stream",
     "text": [
      "Enter a capital:  not sure\n"
     ]
    },
    {
     "name": "stdout",
     "output_type": "stream",
     "text": [
      "Enter a capital for a displayed state : Georgia\n"
     ]
    },
    {
     "name": "stdin",
     "output_type": "stream",
     "text": [
      "Enter a capital:  not sure\n"
     ]
    },
    {
     "name": "stdout",
     "output_type": "stream",
     "text": [
      "Enter a capital for a displayed state : Florida\n"
     ]
    },
    {
     "name": "stdin",
     "output_type": "stream",
     "text": [
      "Enter a capital:  not sure\n"
     ]
    },
    {
     "name": "stdout",
     "output_type": "stream",
     "text": [
      "Enter a capital for a displayed state : Delaware\n"
     ]
    },
    {
     "name": "stdin",
     "output_type": "stream",
     "text": [
      "Enter a capital:  not sure\n"
     ]
    },
    {
     "name": "stdout",
     "output_type": "stream",
     "text": [
      "Enter a capital for a displayed state : Connecticut\n"
     ]
    },
    {
     "name": "stdin",
     "output_type": "stream",
     "text": [
      "Enter a capital:  hartford\n"
     ]
    },
    {
     "name": "stdout",
     "output_type": "stream",
     "text": [
      "Enter a capital for a displayed state : Colorado\n"
     ]
    },
    {
     "name": "stdin",
     "output_type": "stream",
     "text": [
      "Enter a capital:  denver\n"
     ]
    },
    {
     "name": "stdout",
     "output_type": "stream",
     "text": [
      "Enter a capital for a displayed state : California\n"
     ]
    },
    {
     "name": "stdin",
     "output_type": "stream",
     "text": [
      "Enter a capital:  sacramento\n"
     ]
    },
    {
     "name": "stdout",
     "output_type": "stream",
     "text": [
      "Enter a capital for a displayed state : Arkansas\n"
     ]
    },
    {
     "name": "stdin",
     "output_type": "stream",
     "text": [
      "Enter a capital:  not sure\n"
     ]
    },
    {
     "name": "stdout",
     "output_type": "stream",
     "text": [
      "Enter a capital for a displayed state : Arizona\n"
     ]
    },
    {
     "name": "stdin",
     "output_type": "stream",
     "text": [
      "Enter a capital:  Phoenix\n"
     ]
    },
    {
     "name": "stdout",
     "output_type": "stream",
     "text": [
      "Right!\n",
      "Enter a capital for a displayed state : Alaska\n"
     ]
    },
    {
     "name": "stdin",
     "output_type": "stream",
     "text": [
      "Enter a capital:  not sure\n"
     ]
    },
    {
     "name": "stdout",
     "output_type": "stream",
     "text": [
      "Enter a capital for a displayed state : Alabama\n"
     ]
    },
    {
     "name": "stdin",
     "output_type": "stream",
     "text": [
      "Enter a capital:  not sure\n"
     ]
    },
    {
     "name": "stdout",
     "output_type": "stream",
     "text": [
      "The number of correct answer is 2\n",
      "The nubmer of incorrect answer is 48\n"
     ]
    }
   ],
   "source": [
    "# First we will define the dictionary then list the states and assign the value of their capitals:\n",
    "def states/capitals_dictionary():\n",
    "    dictionary = {}\n",
    "    dictionary['Alabama'] = 'Montgomery','montgomery'\n",
    "    dictionary['Alaska'] = 'Juneau','juneau'\n",
    "    dictionary['Arizona'] = 'Phoenix','phoenix'\n",
    "    dictionary['Arkansas'] = 'Little Rock','little rock'\n",
    "    dictionary['California'] = 'Sacramento','sacramento'\n",
    "    dictionary['Colorado'] = 'Denver','denvor'\n",
    "    dictionary['Connecticut'] = 'Hartford','hartford'\n",
    "    dictionary['Delaware'] = 'Dover','dover'\n",
    "    dictionary['Florida'] = 'Tallahassee','tallahassee'\n",
    "    dictionary['Georgia'] = 'Atlanta','atlanta'\n",
    "    dictionary['Hawaii'] = 'Honolulu','honolulu'\n",
    "    dictionary['Idaho'] = 'Boise','boise'\n",
    "    dictionary['Illinois'] = 'Springfield','springfield'\n",
    "    dictionary['Indiana'] = 'Indianapolis','indianapolis'\n",
    "    dictionary['Iowa'] = 'Des Moines','des moines'\n",
    "    dictionary['Kansas'] = 'Topeka','topeka'\n",
    "    dictionary['Kentucky'] = 'Frankfort','frankfort'\n",
    "    dictionary['Louisiana'] = 'Baton Rouge','baton rouge'\n",
    "    dictionary['Maine'] = 'Augusta','augusta'\n",
    "    dictionary['Maryland'] = 'Annapolis','annapolis'\n",
    "    dictionary['Massachusetts'] = 'Boston','boston'\n",
    "    dictionary['Michigan'] = 'Lansing','lansing'\n",
    "    dictionary['Minnesota'] = 'Saint Paul', 'saint paul'\n",
    "    dictionary['Mississippi'] = 'Jackson','jackson'\n",
    "    dictionary['Missouri'] = 'Jefferson City','jefferson city'\n",
    "    dictionary['Montana'] = 'Helena','helena'\n",
    "    dictionary['Nebraska'] = 'Lincoln','lincoln'\n",
    "    dictionary['Nevada'] = 'Carson City','carson city'\n",
    "    dictionary['New Hampshire'] = 'Concord','concord'\n",
    "    dictionary['New Jersey'] = 'Trenton','trenton'\n",
    "    dictionary['New Mexico'] = 'Santa Fe','santa fe'\n",
    "    dictionary['New York'] = 'Albany', 'albany'\n",
    "    dictionary['North Carolina'] = 'Raleigh', 'raleigh'\n",
    "    dictionary['North Dakota'] = 'Bismarck', 'bismark'\n",
    "    dictionary['Ohio'] = 'Columbus', 'columbus'\n",
    "    dictionary['Oklahoma'] = 'Oklahoma City','oklahoma city'\n",
    "    dictionary['Oregon'] = 'Salem','salem'\n",
    "    dictionary['Pennsylvania'] = 'Harrisburg', 'harrisburg'\n",
    "    dictionary['Rhode Island'] = 'Providence','providence'\n",
    "    dictionary['South Carolina'] = 'Columbia','columbia'\n",
    "    dictionary['South Dakota'] = 'Pierre','pierre'\n",
    "    dictionary['Tennessee'] = 'Nashville','nashville'\n",
    "    dictionary['Texas'] = 'Austin','austin'\n",
    "    dictionary['Utah'] = 'Salt Lake City','salt lake city'\n",
    "    dictionary['Vermont'] = 'Montpelier','montpelier'\n",
    "    dictionary['Virginia'] = 'Richmond','richmond'\n",
    "    dictionary['Washington'] = 'Olympia','olympia'\n",
    "    dictionary['West Virginia'] = 'Charleston','charleston'\n",
    "    dictionary['Wisconsin'] = 'Madison','madison'\n",
    "    dictionary['Wyoming'] = 'Cheyenne','cheyenne'\n",
    "    return dictionary\n",
    "def question(dictionary): \n",
    "    count = 0\n",
    "    for i in range(50):\n",
    "        key, value = dictionary.popitem()\n",
    "        print('Enter a capital for a displayed state :', key)\n",
    "        capital = input('Enter a capital: ')\n",
    "        if capital == value:\n",
    "            count += 1\n",
    "            print('Right!')\n",
    "    print('The number of correct answer is', count)\n",
    "    print('The nubmer of incorrect answer is', 50 - count)\n",
    "def main():\n",
    "    dictionary = make_dictionary()\n",
    "    question(dictionary)"
   ]
  },
  {
   "cell_type": "code",
   "execution_count": null,
   "id": "88b8d573-b344-4783-912f-de4896c99718",
   "metadata": {},
   "outputs": [],
   "source": []
  }
 ],
 "metadata": {
  "kernelspec": {
   "display_name": "anaconda-panel-2023.05-py310",
   "language": "python",
   "name": "conda-env-anaconda-panel-2023.05-py310-py"
  },
  "language_info": {
   "codemirror_mode": {
    "name": "ipython",
    "version": 3
   },
   "file_extension": ".py",
   "mimetype": "text/x-python",
   "name": "python",
   "nbconvert_exporter": "python",
   "pygments_lexer": "ipython3",
   "version": "3.11.5"
  }
 },
 "nbformat": 4,
 "nbformat_minor": 5
}
