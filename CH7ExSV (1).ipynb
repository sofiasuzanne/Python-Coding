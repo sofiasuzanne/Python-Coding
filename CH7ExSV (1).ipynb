{
 "cells": [
  {
   "cell_type": "markdown",
   "id": "d65a37dc-a0bb-45f5-adb4-f21befbd5036",
   "metadata": {},
   "source": [
    "Chapter 7 Exercises:"
   ]
  },
  {
   "cell_type": "markdown",
   "id": "6f4995f2-59a4-4dd8-bc32-860be00c8e3b",
   "metadata": {},
   "source": [
    "Algorithm Workbench #1"
   ]
  },
  {
   "cell_type": "markdown",
   "id": "8b29ea14-6830-4501-8576-aecce9ebae85",
   "metadata": {},
   "source": [
    "Write a statement that creates a list with the following strings: Einstein, Newton, Copernicus, and Kepler."
   ]
  },
  {
   "cell_type": "code",
   "execution_count": 8,
   "id": "f5d2cada-1982-4c57-87de-2a4f6f73a2e3",
   "metadata": {},
   "outputs": [],
   "source": [
    "# We can assign scientists for a list then write the string of the following scientists:  \n",
    "Scientists = [\"Einstein\", \"Newton\", \"Copernicus\", \"Kepler\"]"
   ]
  },
  {
   "cell_type": "markdown",
   "id": "5a4db728-db32-4500-b5a0-3233adb54f4c",
   "metadata": {},
   "source": [
    "Algorithm Workbench #2"
   ]
  },
  {
   "cell_type": "markdown",
   "id": "aed17832-48d4-41ea-913e-4258d2a6bd7f",
   "metadata": {},
   "source": [
    "Assume names references a list. Write a for loop that displays each element of the list.\n"
   ]
  },
  {
   "cell_type": "code",
   "execution_count": 12,
   "id": "44afcb0a-7c44-40c6-bf47-8ded408b9ff2",
   "metadata": {},
   "outputs": [
    {
     "name": "stdout",
     "output_type": "stream",
     "text": [
      "Sofia\n",
      "Maya\n",
      "Avery\n",
      "Allie\n",
      "Izzy\n"
     ]
    }
   ],
   "source": [
    "# Write names and write a string with the lists of names for reference:\n",
    "Names = [\"Sofia\", \"Maya\", \"Avery\", \"Allie\", \"Izzy\"]\n",
    "\n",
    "# Now we can use the for loop that will display the names we just listed:\n",
    "for name in Names:\n",
    "    print(name)\n"
   ]
  },
  {
   "cell_type": "markdown",
   "id": "1c2dfb75-4ced-4099-adcc-e27f604b35b4",
   "metadata": {},
   "source": [
    "Programming Exercises #1"
   ]
  },
  {
   "cell_type": "markdown",
   "id": "18866394-e4a2-4238-8d01-f26460a9c4ed",
   "metadata": {},
   "source": [
    "Design a program that asks the user to enter a store’s sales for each day of the week. The amounts should be stored in a list. Use a loop to calculate the total sales for the week and display the result."
   ]
  },
  {
   "cell_type": "code",
   "execution_count": 16,
   "id": "15e8f661-86c8-4a84-ad06-7f4f31e5b7b8",
   "metadata": {},
   "outputs": [
    {
     "name": "stdin",
     "output_type": "stream",
     "text": [
      "Enter sales for Monday: $  279\n",
      "Enter sales for Tuesday: $  456\n",
      "Enter sales for Wednesday: $  172\n",
      "Enter sales for Thursday: $  702\n",
      "Enter sales for Friday: $  571\n",
      "Enter sales for Saturday: $  380\n",
      "Enter sales for Sunday: $  838\n"
     ]
    },
    {
     "name": "stdout",
     "output_type": "stream",
     "text": [
      "\n",
      "Total sales for the week: $3398.00\n"
     ]
    }
   ],
   "source": [
    "# First we will write the main function and make a empty list for the stores sales:\n",
    "def main():\n",
    "    sales = []\n",
    "\n",
    "# Now we can use a for loop, and write out each of the days and ask the user to print the sales according to the day:\n",
    "    for day in [\"Monday\", \"Tuesday\", \"Wednesday\", \"Thursday\", \"Friday\", \"Saturday\", \"Sunday\"]:\n",
    "        sales_input = float(input(f\"Enter sales for {day}: $ \"))\n",
    "        sales.append(sales_input)\n",
    "\n",
    "# Now we can write the total sales calculation for the sum of each day sales:\n",
    "    Total_sales = sum(sales)\n",
    "\n",
    "# Next we can ask for it to display the total sales for the store:\n",
    "    print(f\"\\nTotal sales for the week: ${Total_sales:.2f}\")\n",
    "\n",
    "# Lastly we can call to the main function:\n",
    "if __name__ == \"__main__\":\n",
    "    main()\n"
   ]
  },
  {
   "cell_type": "markdown",
   "id": "a1493928-038a-449c-bb68-3b146609ca21",
   "metadata": {},
   "source": [
    "Programming Exercise #14"
   ]
  },
  {
   "cell_type": "markdown",
   "id": "01a726bd-22ba-4897-873d-0d04257ec36a",
   "metadata": {},
   "source": [
    "Create a text file that contains your expenses for last month in the following categories:  Rent, Gas, Food, Clothing, Car payment , Misc. Write a Python program that reads the data from the file and uses matplotlib to plot a pie chart showing how you spend your money."
   ]
  },
  {
   "cell_type": "code",
   "execution_count": null,
   "id": "74e1cc32-2647-42aa-8768-0a75fa5b8049",
   "metadata": {},
   "outputs": [],
   "source": [
    "# first we want to import the matplotlib to plot the pie chart:\n",
    "import matplotlib.pyplot as plt\n",
    "import os\n",
    "# Next we will define the function to the file like we did in chapter 6:\n",
    "def write_expenses_to_file(filename):\n",
    "    with open(filename, 'w') as file:\n",
    "# Next we can ask the user for the category expenses for the month:\n",
    "        expenses = {\n",
    "            'Rent': float(input(\"Enter rent amount: \")),\n",
    "            'Gas': float(input(\"Enter gas amount: \")),\n",
    "            'Food': float(input(\"Enter food amount: \")),\n",
    "            'Clothing': float(input(\"Enter clothing amount: \")),\n",
    "            'Car payment': float(input(\"Enter car payment amount: \")),\n",
    "            'Misc': float(input(\"Enter miscellaneous amount: \"))\n",
    "        }\n",
    "\n",
    "# Assign the values inputed to the file:\n",
    "        for category, amount in expenses.items():\n",
    "            file.write(f\"{category}:{amount}\\n\")\n",
    "\n",
    "    print(f\"Expenses saved to {filename}\")\n",
    "\n",
    "def read_expenses(filename):\n",
    "    categories = []\n",
    "    amounts = []\n",
    "\n",
    "    with open(filename, 'r') as file:\n",
    "        for line in file:\n",
    "            category, amount = line.strip().split(':')\n",
    "            categories.append(category)\n",
    "            amounts.append(float(amount))\n",
    "\n",
    "    return categories, amounts\n",
    "# Next we will write to create the pie chart and it's measurements and angles:\n",
    "def plot_pie_chart(categories, amounts):\n",
    "    plt.figure(figsize=(8, 6))\n",
    "    plt.pie(amounts, labels=categories, autopct='%1.1f%%', startangle=140)\n",
    "    plt.title('Monthly Expenses Breakdown')\n",
    "    plt.axis('equal')  # Equal aspect ratio ensures that pie is drawn as a circle.\n",
    "    plt.show()\n",
    "# Define the main function as expenses:\n",
    "def main():\n",
    "    filename = 'expenses.txt'\n",
    "    if not os.path.exists(filename):\n",
    "        write_expenses_to_file(filename)\n",
    "    else:\n",
    "        print(f\"File {filename} already exists. Reading expenses from file...\\n\")\n",
    "\n",
    "# Next we will ask it to read the file: \n",
    "    categories, amounts = read_expenses(filename)\n",
    "\n",
    "# Now we will ask it to plot the pie chart\n",
    "    plot_pie_chart(categories, amounts)\n",
    "# Lastly call to the main function:\n",
    "if __name__ == \"__main__\":\n",
    "    main()"
   ]
  },
  {
   "cell_type": "markdown",
   "id": "59ebc628-6f90-4df9-9aeb-2ac5e863ee44",
   "metadata": {},
   "source": [
    "Programming Exercise #6"
   ]
  },
  {
   "cell_type": "markdown",
   "id": "b6bb1532-84ea-4015-89ba-a2a57373ce14",
   "metadata": {},
   "source": [
    "In a program, write a function that accepts two arguments: a list, and a number n. Assume that the list contains numbers. The function should display all of the numbers in the list that are greater than the number n.\n"
   ]
  },
  {
   "cell_type": "code",
   "execution_count": 32,
   "id": "fdf77f69-4097-4bff-8eab-055753e50d65",
   "metadata": {},
   "outputs": [
    {
     "name": "stdout",
     "output_type": "stream",
     "text": [
      "Numbers greater than 22:\n",
      "62\n",
      "30\n",
      "49\n",
      "23\n"
     ]
    }
   ],
   "source": [
    "# First we will define the function and the list:\n",
    "def numbers_greater_than(numbers, n):\n",
    "# Now we will write the numbers greater than n and print it:\n",
    "    for num in numbers:\n",
    "        if num > n:\n",
    "            print(num)\n",
    "# Now we will define the main function and list a few numbers for our example:\n",
    "def main():\n",
    "    numbers = [62, 19, 30, 3, 49, 23, 11]\n",
    "# Now we will write a number that n is so it can run through the function:\n",
    "    n = 22\n",
    "# Next we will ask it to print the numbers greater than n and display it:    \n",
    "    print(f\"Numbers greater than {n}:\")\n",
    "    numbers_greater_than(numbers, n)\n",
    "# Lastly we will call to the main function:\n",
    "if __name__ == \"__main__\":\n",
    "    main()\n"
   ]
  },
  {
   "cell_type": "markdown",
   "id": "2196ef45-cd48-4d48-b377-b2134f756114",
   "metadata": {},
   "source": [
    "Programming Exercise #3"
   ]
  },
  {
   "cell_type": "markdown",
   "id": "69563a05-7180-4003-9f48-032fd9c6246e",
   "metadata": {},
   "source": [
    "Design a program that lets the user enter the total rainfall for each of 12 months into a list. The program should calculate and display the total rainfall for the year, the average monthly rainfall, the months with the highest and lowest amounts."
   ]
  },
  {
   "cell_type": "code",
   "execution_count": 36,
   "id": "e2b02cf1-3acf-4018-b291-9f93955b2faf",
   "metadata": {},
   "outputs": [
    {
     "name": "stdin",
     "output_type": "stream",
     "text": [
      "Enter rainfall for month 1:  23\n",
      "Enter rainfall for month 2:  11\n",
      "Enter rainfall for month 3:  18\n",
      "Enter rainfall for month 4:  15\n",
      "Enter rainfall for month 5:  10\n",
      "Enter rainfall for month 6:  8\n",
      "Enter rainfall for month 7:  12\n",
      "Enter rainfall for month 8:  33\n",
      "Enter rainfall for month 9:  27\n",
      "Enter rainfall for month 10:  24\n",
      "Enter rainfall for month 11:  15\n",
      "Enter rainfall for month 12:  12\n"
     ]
    },
    {
     "name": "stdout",
     "output_type": "stream",
     "text": [
      "Total rainfall: 208.0 mm\n",
      "Average monthly rainfall: 17.333333333333332 mm\n",
      "Month with the highest rainfall: Month 8 with 33.0 mm\n",
      "Month with the lowest rainfall: Month 6 with 8.0 mm\n"
     ]
    }
   ],
   "source": [
    "# First define the main function then create the empty list for the rainfall:\n",
    "def main():\n",
    "    rainfall = []\n",
    "\n",
    "# Now we can use a for loop for the range of months we want which is 1 through 12:\n",
    "    for month in range(1, 13):\n",
    "        while True:\n",
    "# Now we can ask the user to enter in the rainfall for each month and the exception if the rainfall is 0:\n",
    "            try:\n",
    "                rain = float(input(f\"Enter rainfall for month {month}: \"))\n",
    "                if rain >= 0:\n",
    "                    rainfall.append(rain)\n",
    "                    break\n",
    "                else:\n",
    "                    print(\"Rainfall amount cannot be negative. Please enter a valid number.\")\n",
    "            except ValueError:\n",
    "                print(\"Invalid input. Please enter a valid number.\")\n",
    "# Now we can calculate the total amount of rainfall for the year:\n",
    "    total_rainfall = sum(rainfall)\n",
    "# Now we can do the calculation for the average rainfall:\n",
    "    average_rainfall = total_rainfall / 12\n",
    "# Next we will write to calculate the minimum amount of rainfall and the maximum:\n",
    "    max_rain = max(rainfall)\n",
    "    min_rain = min(rainfall)\n",
    "# Next we will add the plus 1 therefore it can determine which month is highest or lowest:   \n",
    "    max_month = rainfall.index(max_rain) + 1  \n",
    "    min_month = rainfall.index(min_rain) + 1 \n",
    "# We can use millimeters for the amount of rainfall:\n",
    "# We can ask to display the results for all of the components this question asked for, total rainfall, min/max, and average rainfall:\n",
    "    print(f\"Total rainfall: {total_rainfall} mm\")\n",
    "    print(f\"Average monthly rainfall: {average_rainfall} mm\")\n",
    "    print(f\"Month with the highest rainfall: Month {max_month} with {max_rain} mm\")\n",
    "    print(f\"Month with the lowest rainfall: Month {min_month} with {min_rain} mm\")\n",
    "# Lastly we will call to the main function:\n",
    "if __name__ == \"__main__\":\n",
    "    main()\n"
   ]
  },
  {
   "cell_type": "code",
   "execution_count": null,
   "id": "4fc4723a-644c-4333-80b6-6a7814e4a287",
   "metadata": {},
   "outputs": [],
   "source": []
  }
 ],
 "metadata": {
  "kernelspec": {
   "display_name": "anaconda-2024.02-py310",
   "language": "python",
   "name": "conda-env-anaconda-2024.02-py310-py"
  },
  "language_info": {
   "codemirror_mode": {
    "name": "ipython",
    "version": 3
   },
   "file_extension": ".py",
   "mimetype": "text/x-python",
   "name": "python",
   "nbconvert_exporter": "python",
   "pygments_lexer": "ipython3",
   "version": "3.10.14"
  }
 },
 "nbformat": 4,
 "nbformat_minor": 5
}
