{
 "cells": [
  {
   "cell_type": "markdown",
   "id": "d65a37dc-a0bb-45f5-adb4-f21befbd5036",
   "metadata": {},
   "source": [
    "Chapter 7 Exercises:"
   ]
  },
  {
   "cell_type": "markdown",
   "id": "6f4995f2-59a4-4dd8-bc32-860be00c8e3b",
   "metadata": {},
   "source": [
    "Algorithm Workbench #1"
   ]
  },
  {
   "cell_type": "markdown",
   "id": "8b29ea14-6830-4501-8576-aecce9ebae85",
   "metadata": {},
   "source": [
    "Write a statement that creates a list with the following strings: Einstein, Newton, Copernicus, and Kepler."
   ]
  },
  {
   "cell_type": "code",
   "execution_count": 8,
   "id": "f5d2cada-1982-4c57-87de-2a4f6f73a2e3",
   "metadata": {},
   "outputs": [],
   "source": [
    "# We can assign scientists for a list then write the string of the following scientists:  \n",
    "Scientists = [\"Einstein\", \"Newton\", \"Copernicus\", \"Kepler\"]"
   ]
  },
  {
   "cell_type": "markdown",
   "id": "5a4db728-db32-4500-b5a0-3233adb54f4c",
   "metadata": {},
   "source": [
    "Algorithm Workbench #2"
   ]
  },
  {
   "cell_type": "markdown",
   "id": "aed17832-48d4-41ea-913e-4258d2a6bd7f",
   "metadata": {},
   "source": [
    "Assume names references a list. Write a for loop that displays each element of the list.\n"
   ]
  },
  {
   "cell_type": "code",
   "execution_count": 12,
   "id": "44afcb0a-7c44-40c6-bf47-8ded408b9ff2",
   "metadata": {},
   "outputs": [
    {
     "name": "stdout",
     "output_type": "stream",
     "text": [
      "Sofia\n",
      "Maya\n",
      "Avery\n",
      "Allie\n",
      "Izzy\n"
     ]
    }
   ],
   "source": [
    "# Write names and write a string with the lists of names for reference:\n",
    "Names = [\"Sofia\", \"Maya\", \"Avery\", \"Allie\", \"Izzy\"]\n",
    "\n",
    "# Now we can use the for loop that will display the names we just listed:\n",
    "for name in Names:\n",
    "    print(name)\n"
   ]
  },
  {
   "cell_type": "markdown",
   "id": "1c2dfb75-4ced-4099-adcc-e27f604b35b4",
   "metadata": {},
   "source": [
    "Programming Exercises #1"
   ]
  },
  {
   "cell_type": "markdown",
   "id": "18866394-e4a2-4238-8d01-f26460a9c4ed",
   "metadata": {},
   "source": [
    "Design a program that asks the user to enter a store’s sales for each day of the week. The amounts should be stored in a list. Use a loop to calculate the total sales for the week and display the result."
   ]
  },
  {
   "cell_type": "code",
   "execution_count": 16,
   "id": "15e8f661-86c8-4a84-ad06-7f4f31e5b7b8",
   "metadata": {},
   "outputs": [
    {
     "name": "stdin",
     "output_type": "stream",
     "text": [
      "Enter sales for Monday: $  279\n",
      "Enter sales for Tuesday: $  456\n",
      "Enter sales for Wednesday: $  172\n",
      "Enter sales for Thursday: $  702\n",
      "Enter sales for Friday: $  571\n",
      "Enter sales for Saturday: $  380\n",
      "Enter sales for Sunday: $  838\n"
     ]
    },
    {
     "name": "stdout",
     "output_type": "stream",
     "text": [
      "\n",
      "Total sales for the week: $3398.00\n"
     ]
    }
   ],
   "source": [
    "# First we will write the main function and make a empty list for the stores sales:\n",
    "def main():\n",
    "    sales = []\n",
    "\n",
    "# Now we can use a for loop, and write out each of the days and ask the user to print the sales according to the day:\n",
    "    for day in [\"Monday\", \"Tuesday\", \"Wednesday\", \"Thursday\", \"Friday\", \"Saturday\", \"Sunday\"]:\n",
    "        sales_input = float(input(f\"Enter sales for {day}: $ \"))\n",
    "        sales.append(sales_input)\n",
    "\n",
    "# Now we can write the total sales calculation for the sum of each day sales:\n",
    "    Total_sales = sum(sales)\n",
    "\n",
    "# Next we can ask for it to display the total sales for the store:\n",
    "    print(f\"\\nTotal sales for the week: ${Total_sales:.2f}\")\n",
    "\n",
    "# Lastly we can call to the main function:\n",
    "if __name__ == \"__main__\":\n",
    "    main()\n"
   ]
  },
  {
   "cell_type": "markdown",
   "id": "a1493928-038a-449c-bb68-3b146609ca21",
   "metadata": {},
   "source": [
    "Programming Exercise #14"
   ]
  },
  {
   "cell_type": "markdown",
   "id": "01a726bd-22ba-4897-873d-0d04257ec36a",
   "metadata": {},
   "source": [
    "Create a text file that contains your expenses for last month in the following categories:  Rent, Gas, Food, Clothing, Car payment , Misc. Write a Python program that reads the data from the file and uses matplotlib to plot a pie chart showing how you spend your money."
   ]
  },
  {
   "cell_type": "code",
   "execution_count": 24,
   "id": "74e1cc32-2647-42aa-8768-0a75fa5b8049",
   "metadata": {},
   "outputs": [
    {
     "ename": "FileNotFoundError",
     "evalue": "[Errno 2] No such file or directory: 'expenses.txt'",
     "output_type": "error",
     "traceback": [
      "\u001b[0;31m---------------------------------------------------------------------------\u001b[0m",
      "\u001b[0;31mFileNotFoundError\u001b[0m                         Traceback (most recent call last)",
      "Cell \u001b[0;32mIn[24], line 33\u001b[0m\n\u001b[1;32m     31\u001b[0m \u001b[38;5;66;03m# Lastly we call to the main function:\u001b[39;00m\n\u001b[1;32m     32\u001b[0m \u001b[38;5;28;01mif\u001b[39;00m \u001b[38;5;18m__name__\u001b[39m \u001b[38;5;241m==\u001b[39m \u001b[38;5;124m\"\u001b[39m\u001b[38;5;124m__main__\u001b[39m\u001b[38;5;124m\"\u001b[39m:\n\u001b[0;32m---> 33\u001b[0m     \u001b[43mmain\u001b[49m\u001b[43m(\u001b[49m\u001b[43m)\u001b[49m\n",
      "Cell \u001b[0;32mIn[24], line 29\u001b[0m, in \u001b[0;36mmain\u001b[0;34m()\u001b[0m\n\u001b[1;32m     27\u001b[0m \u001b[38;5;28;01mdef\u001b[39;00m \u001b[38;5;21mmain\u001b[39m():\n\u001b[1;32m     28\u001b[0m     filename \u001b[38;5;241m=\u001b[39m \u001b[38;5;124m'\u001b[39m\u001b[38;5;124mexpenses.txt\u001b[39m\u001b[38;5;124m'\u001b[39m\n\u001b[0;32m---> 29\u001b[0m     categories, amounts \u001b[38;5;241m=\u001b[39m \u001b[43mread_expense_data\u001b[49m\u001b[43m(\u001b[49m\u001b[43mfilename\u001b[49m\u001b[43m)\u001b[49m\n\u001b[1;32m     30\u001b[0m     plot_pie_chart(categories, amounts)\n",
      "Cell \u001b[0;32mIn[24], line 10\u001b[0m, in \u001b[0;36mread_expense_data\u001b[0;34m(filename)\u001b[0m\n\u001b[1;32m      7\u001b[0m categories \u001b[38;5;241m=\u001b[39m []\n\u001b[1;32m      8\u001b[0m amounts \u001b[38;5;241m=\u001b[39m []\n\u001b[0;32m---> 10\u001b[0m \u001b[38;5;28;01mwith\u001b[39;00m \u001b[38;5;28;43mopen\u001b[39;49m\u001b[43m(\u001b[49m\u001b[43mfilename\u001b[49m\u001b[43m,\u001b[49m\u001b[43m \u001b[49m\u001b[38;5;124;43m'\u001b[39;49m\u001b[38;5;124;43mr\u001b[39;49m\u001b[38;5;124;43m'\u001b[39;49m\u001b[43m)\u001b[49m \u001b[38;5;28;01mas\u001b[39;00m file:\n\u001b[1;32m     11\u001b[0m     \u001b[38;5;28;01mfor\u001b[39;00m line \u001b[38;5;129;01min\u001b[39;00m file:\n\u001b[1;32m     12\u001b[0m         line \u001b[38;5;241m=\u001b[39m line\u001b[38;5;241m.\u001b[39mstrip()\n",
      "File \u001b[0;32m/opt/conda/envs/anaconda-2024.02-py310/lib/python3.10/site-packages/IPython/core/interactiveshell.py:310\u001b[0m, in \u001b[0;36m_modified_open\u001b[0;34m(file, *args, **kwargs)\u001b[0m\n\u001b[1;32m    303\u001b[0m \u001b[38;5;28;01mif\u001b[39;00m file \u001b[38;5;129;01min\u001b[39;00m {\u001b[38;5;241m0\u001b[39m, \u001b[38;5;241m1\u001b[39m, \u001b[38;5;241m2\u001b[39m}:\n\u001b[1;32m    304\u001b[0m     \u001b[38;5;28;01mraise\u001b[39;00m \u001b[38;5;167;01mValueError\u001b[39;00m(\n\u001b[1;32m    305\u001b[0m         \u001b[38;5;124mf\u001b[39m\u001b[38;5;124m\"\u001b[39m\u001b[38;5;124mIPython won\u001b[39m\u001b[38;5;124m'\u001b[39m\u001b[38;5;124mt let you open fd=\u001b[39m\u001b[38;5;132;01m{\u001b[39;00mfile\u001b[38;5;132;01m}\u001b[39;00m\u001b[38;5;124m by default \u001b[39m\u001b[38;5;124m\"\u001b[39m\n\u001b[1;32m    306\u001b[0m         \u001b[38;5;124m\"\u001b[39m\u001b[38;5;124mas it is likely to crash IPython. If you know what you are doing, \u001b[39m\u001b[38;5;124m\"\u001b[39m\n\u001b[1;32m    307\u001b[0m         \u001b[38;5;124m\"\u001b[39m\u001b[38;5;124myou can use builtins\u001b[39m\u001b[38;5;124m'\u001b[39m\u001b[38;5;124m open.\u001b[39m\u001b[38;5;124m\"\u001b[39m\n\u001b[1;32m    308\u001b[0m     )\n\u001b[0;32m--> 310\u001b[0m \u001b[38;5;28;01mreturn\u001b[39;00m \u001b[43mio_open\u001b[49m\u001b[43m(\u001b[49m\u001b[43mfile\u001b[49m\u001b[43m,\u001b[49m\u001b[43m \u001b[49m\u001b[38;5;241;43m*\u001b[39;49m\u001b[43margs\u001b[49m\u001b[43m,\u001b[49m\u001b[43m \u001b[49m\u001b[38;5;241;43m*\u001b[39;49m\u001b[38;5;241;43m*\u001b[39;49m\u001b[43mkwargs\u001b[49m\u001b[43m)\u001b[49m\n",
      "\u001b[0;31mFileNotFoundError\u001b[0m: [Errno 2] No such file or directory: 'expenses.txt'"
     ]
    }
   ],
   "source": [
    "# I had to ask chatgpt for some help on this one, I was confused on how to define and outline the pie chart:\n",
    "# First we import the plot pie chart:\n",
    "import matplotlib.pyplot as plt\n",
    "# Next we can define the function and name the file as we did in chapter 6:\n",
    "def read_expense_data(filename):\n",
    "# Then we can assign the strings:    \n",
    "    categories = []\n",
    "    amounts = []\n",
    "    \n",
    "    with open(filename, 'r') as file:\n",
    "        for line in file:\n",
    "            line = line.strip()\n",
    "            if line:\n",
    "                category, amount = line.split(',')\n",
    "                categories.append(category.strip())\n",
    "                amounts.append(float(amount.strip()))\n",
    "    \n",
    "    return categories, amounts\n",
    "# This is what I asked chat gpt for help with, first we define and create the plot pie chart then create the labels of the pie chart, the correct angle for the chart, and to display it.\n",
    "def plot_pie_chart(categories, amounts):\n",
    "    plt.figure(figsize=(8, 6))\n",
    "    plt.pie(amounts, labels=categories, autopct='%1.1f%%', startangle=140)\n",
    "    plt.title('Expense Distribution')\n",
    "    plt.axis('equal')  \n",
    "    plt.show()\n",
    "# Now we can define the main function and refer back to the file name and call it expenses:\n",
    "def main():\n",
    "    filename = 'expenses.txt'\n",
    "    categories, amounts = read_expense_data(filename)\n",
    "    plot_pie_chart(categories, amounts)\n",
    "# Lastly we call to the main function:\n",
    "if __name__ == \"__main__\":\n",
    "    main()\n"
   ]
  },
  {
   "cell_type": "markdown",
   "id": "59ebc628-6f90-4df9-9aeb-2ac5e863ee44",
   "metadata": {},
   "source": [
    "Programming Exercise #6"
   ]
  },
  {
   "cell_type": "markdown",
   "id": "b6bb1532-84ea-4015-89ba-a2a57373ce14",
   "metadata": {},
   "source": [
    "In a program, write a function that accepts two arguments: a list, and a number n. Assume that the list contains numbers. The function should display all of the numbers in the list that are greater than the number n.\n"
   ]
  },
  {
   "cell_type": "code",
   "execution_count": 32,
   "id": "fdf77f69-4097-4bff-8eab-055753e50d65",
   "metadata": {},
   "outputs": [
    {
     "name": "stdout",
     "output_type": "stream",
     "text": [
      "Numbers greater than 22:\n",
      "62\n",
      "30\n",
      "49\n",
      "23\n"
     ]
    }
   ],
   "source": [
    "# First we will define the function and the list:\n",
    "def numbers_greater_than(numbers, n):\n",
    "# Now we will write the numbers greater than n and print it:\n",
    "    for num in numbers:\n",
    "        if num > n:\n",
    "            print(num)\n",
    "# Now we will define the main function and list a few numbers for our example:\n",
    "def main():\n",
    "    numbers = [62, 19, 30, 3, 49, 23, 11]\n",
    "# Now we will write a number that n is so it can run through the function:\n",
    "    n = 22\n",
    "# Next we will ask it to print the numbers greater than n and display it:    \n",
    "    print(f\"Numbers greater than {n}:\")\n",
    "    numbers_greater_than(numbers, n)\n",
    "# Lastly we will call to the main function:\n",
    "if __name__ == \"__main__\":\n",
    "    main()\n"
   ]
  },
  {
   "cell_type": "markdown",
   "id": "2196ef45-cd48-4d48-b377-b2134f756114",
   "metadata": {},
   "source": [
    "Programming Exercise #3"
   ]
  },
  {
   "cell_type": "markdown",
   "id": "69563a05-7180-4003-9f48-032fd9c6246e",
   "metadata": {},
   "source": [
    "Design a program that lets the user enter the total rainfall for each of 12 months into a list. The program should calculate and display the total rainfall for the year, the average monthly rainfall, the months with the highest and lowest amounts."
   ]
  },
  {
   "cell_type": "code",
   "execution_count": 36,
   "id": "e2b02cf1-3acf-4018-b291-9f93955b2faf",
   "metadata": {},
   "outputs": [
    {
     "name": "stdin",
     "output_type": "stream",
     "text": [
      "Enter rainfall for month 1:  23\n",
      "Enter rainfall for month 2:  11\n",
      "Enter rainfall for month 3:  18\n",
      "Enter rainfall for month 4:  15\n",
      "Enter rainfall for month 5:  10\n",
      "Enter rainfall for month 6:  8\n",
      "Enter rainfall for month 7:  12\n",
      "Enter rainfall for month 8:  33\n",
      "Enter rainfall for month 9:  27\n",
      "Enter rainfall for month 10:  24\n",
      "Enter rainfall for month 11:  15\n",
      "Enter rainfall for month 12:  12\n"
     ]
    },
    {
     "name": "stdout",
     "output_type": "stream",
     "text": [
      "Total rainfall: 208.0 mm\n",
      "Average monthly rainfall: 17.333333333333332 mm\n",
      "Month with the highest rainfall: Month 8 with 33.0 mm\n",
      "Month with the lowest rainfall: Month 6 with 8.0 mm\n"
     ]
    }
   ],
   "source": [
    "# First define the main function then create the empty list for the rainfall:\n",
    "def main():\n",
    "    rainfall = []\n",
    "\n",
    "# Now we can use a for loop for the range of months we want which is 1 through 12:\n",
    "    for month in range(1, 13):\n",
    "        while True:\n",
    "# Now we can ask the user to enter in the rainfall for each month and the exception if the rainfall is 0:\n",
    "            try:\n",
    "                rain = float(input(f\"Enter rainfall for month {month}: \"))\n",
    "                if rain >= 0:\n",
    "                    rainfall.append(rain)\n",
    "                    break\n",
    "                else:\n",
    "                    print(\"Rainfall amount cannot be negative. Please enter a valid number.\")\n",
    "            except ValueError:\n",
    "                print(\"Invalid input. Please enter a valid number.\")\n",
    "# Now we can calculate the total amount of rainfall for the year:\n",
    "    total_rainfall = sum(rainfall)\n",
    "# Now we can do the calculation for the average rainfall:\n",
    "    average_rainfall = total_rainfall / 12\n",
    "# Next we will write to calculate the minimum amount of rainfall and the maximum:\n",
    "    max_rain = max(rainfall)\n",
    "    min_rain = min(rainfall)\n",
    "# Next we will add the plus 1 therefore it can determine which month is highest or lowest:   \n",
    "    max_month = rainfall.index(max_rain) + 1  \n",
    "    min_month = rainfall.index(min_rain) + 1 \n",
    "# We can use millimeters for the amount of rainfall:\n",
    "# We can ask to display the results for all of the components this question asked for, total rainfall, min/max, and average rainfall:\n",
    "    print(f\"Total rainfall: {total_rainfall} mm\")\n",
    "    print(f\"Average monthly rainfall: {average_rainfall} mm\")\n",
    "    print(f\"Month with the highest rainfall: Month {max_month} with {max_rain} mm\")\n",
    "    print(f\"Month with the lowest rainfall: Month {min_month} with {min_rain} mm\")\n",
    "# Lastly we will call to the main function:\n",
    "if __name__ == \"__main__\":\n",
    "    main()\n"
   ]
  },
  {
   "cell_type": "code",
   "execution_count": null,
   "id": "4fc4723a-644c-4333-80b6-6a7814e4a287",
   "metadata": {},
   "outputs": [],
   "source": []
  }
 ],
 "metadata": {
  "kernelspec": {
   "display_name": "anaconda-2024.02-py310",
   "language": "python",
   "name": "conda-env-anaconda-2024.02-py310-py"
  },
  "language_info": {
   "codemirror_mode": {
    "name": "ipython",
    "version": 3
   },
   "file_extension": ".py",
   "mimetype": "text/x-python",
   "name": "python",
   "nbconvert_exporter": "python",
   "pygments_lexer": "ipython3",
   "version": "3.10.14"
  }
 },
 "nbformat": 4,
 "nbformat_minor": 5
}
